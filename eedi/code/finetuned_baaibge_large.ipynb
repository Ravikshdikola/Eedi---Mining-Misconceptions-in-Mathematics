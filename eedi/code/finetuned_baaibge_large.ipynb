{
  "cells": [
    {
      "cell_type": "code",
      "execution_count": null,
      "metadata": {
        "colab": {
          "base_uri": "https://localhost:8080/"
        },
        "execution": {
          "iopub.execute_input": "2024-12-17T07:16:51.939873Z",
          "iopub.status.busy": "2024-12-17T07:16:51.939436Z",
          "iopub.status.idle": "2024-12-17T07:17:01.151846Z",
          "shell.execute_reply": "2024-12-17T07:17:01.150732Z",
          "shell.execute_reply.started": "2024-12-17T07:16:51.939830Z"
        },
        "id": "ujlmYVtCqfbB",
        "outputId": "7226a4a4-9c36-4125-f0e8-7b0603f9e1e2",
        "trusted": true
      },
      "outputs": [
        {
          "name": "stdout",
          "output_type": "stream",
          "text": [
            "Requirement already satisfied: datasets in c:\\users\\raviksh\\miniconda3\\envs\\chat_arena\\lib\\site-packages (3.2.0)\n",
            "Requirement already satisfied: filelock in c:\\users\\raviksh\\miniconda3\\envs\\chat_arena\\lib\\site-packages (from datasets) (3.16.1)\n",
            "Requirement already satisfied: numpy>=1.17 in c:\\users\\raviksh\\miniconda3\\envs\\chat_arena\\lib\\site-packages (from datasets) (2.2.1)\n",
            "Requirement already satisfied: pyarrow>=15.0.0 in c:\\users\\raviksh\\miniconda3\\envs\\chat_arena\\lib\\site-packages (from datasets) (18.1.0)\n",
            "Requirement already satisfied: dill<0.3.9,>=0.3.0 in c:\\users\\raviksh\\miniconda3\\envs\\chat_arena\\lib\\site-packages (from datasets) (0.3.8)\n",
            "Requirement already satisfied: pandas in c:\\users\\raviksh\\miniconda3\\envs\\chat_arena\\lib\\site-packages (from datasets) (2.2.3)\n",
            "Requirement already satisfied: requests>=2.32.2 in c:\\users\\raviksh\\miniconda3\\envs\\chat_arena\\lib\\site-packages (from datasets) (2.32.3)\n",
            "Requirement already satisfied: tqdm>=4.66.3 in c:\\users\\raviksh\\miniconda3\\envs\\chat_arena\\lib\\site-packages (from datasets) (4.67.1)\n",
            "Requirement already satisfied: xxhash in c:\\users\\raviksh\\miniconda3\\envs\\chat_arena\\lib\\site-packages (from datasets) (3.5.0)\n",
            "Requirement already satisfied: multiprocess<0.70.17 in c:\\users\\raviksh\\miniconda3\\envs\\chat_arena\\lib\\site-packages (from datasets) (0.70.16)\n",
            "Requirement already satisfied: fsspec<=2024.9.0,>=2023.1.0 in c:\\users\\raviksh\\miniconda3\\envs\\chat_arena\\lib\\site-packages (from fsspec[http]<=2024.9.0,>=2023.1.0->datasets) (2024.9.0)\n",
            "Requirement already satisfied: aiohttp in c:\\users\\raviksh\\miniconda3\\envs\\chat_arena\\lib\\site-packages (from datasets) (3.11.11)\n",
            "Requirement already satisfied: huggingface-hub>=0.23.0 in c:\\users\\raviksh\\miniconda3\\envs\\chat_arena\\lib\\site-packages (from datasets) (0.27.0)\n",
            "Requirement already satisfied: packaging in c:\\users\\raviksh\\miniconda3\\envs\\chat_arena\\lib\\site-packages (from datasets) (24.2)\n",
            "Requirement already satisfied: pyyaml>=5.1 in c:\\users\\raviksh\\miniconda3\\envs\\chat_arena\\lib\\site-packages (from datasets) (6.0.2)\n",
            "Requirement already satisfied: aiohappyeyeballs>=2.3.0 in c:\\users\\raviksh\\miniconda3\\envs\\chat_arena\\lib\\site-packages (from aiohttp->datasets) (2.4.4)\n",
            "Requirement already satisfied: aiosignal>=1.1.2 in c:\\users\\raviksh\\miniconda3\\envs\\chat_arena\\lib\\site-packages (from aiohttp->datasets) (1.3.2)\n",
            "Requirement already satisfied: async-timeout<6.0,>=4.0 in c:\\users\\raviksh\\miniconda3\\envs\\chat_arena\\lib\\site-packages (from aiohttp->datasets) (5.0.1)\n",
            "Requirement already satisfied: attrs>=17.3.0 in c:\\users\\raviksh\\miniconda3\\envs\\chat_arena\\lib\\site-packages (from aiohttp->datasets) (24.3.0)\n",
            "Requirement already satisfied: frozenlist>=1.1.1 in c:\\users\\raviksh\\miniconda3\\envs\\chat_arena\\lib\\site-packages (from aiohttp->datasets) (1.5.0)\n",
            "Requirement already satisfied: multidict<7.0,>=4.5 in c:\\users\\raviksh\\miniconda3\\envs\\chat_arena\\lib\\site-packages (from aiohttp->datasets) (6.1.0)\n",
            "Requirement already satisfied: propcache>=0.2.0 in c:\\users\\raviksh\\miniconda3\\envs\\chat_arena\\lib\\site-packages (from aiohttp->datasets) (0.2.1)\n",
            "Requirement already satisfied: yarl<2.0,>=1.17.0 in c:\\users\\raviksh\\miniconda3\\envs\\chat_arena\\lib\\site-packages (from aiohttp->datasets) (1.18.3)\n",
            "Requirement already satisfied: typing-extensions>=3.7.4.3 in c:\\users\\raviksh\\miniconda3\\envs\\chat_arena\\lib\\site-packages (from huggingface-hub>=0.23.0->datasets) (4.12.2)\n",
            "Requirement already satisfied: charset_normalizer<4,>=2 in c:\\users\\raviksh\\miniconda3\\envs\\chat_arena\\lib\\site-packages (from requests>=2.32.2->datasets) (3.4.1)\n",
            "Requirement already satisfied: idna<4,>=2.5 in c:\\users\\raviksh\\miniconda3\\envs\\chat_arena\\lib\\site-packages (from requests>=2.32.2->datasets) (3.10)\n",
            "Requirement already satisfied: urllib3<3,>=1.21.1 in c:\\users\\raviksh\\miniconda3\\envs\\chat_arena\\lib\\site-packages (from requests>=2.32.2->datasets) (2.3.0)\n",
            "Requirement already satisfied: certifi>=2017.4.17 in c:\\users\\raviksh\\miniconda3\\envs\\chat_arena\\lib\\site-packages (from requests>=2.32.2->datasets) (2024.12.14)\n",
            "Requirement already satisfied: colorama in c:\\users\\raviksh\\miniconda3\\envs\\chat_arena\\lib\\site-packages (from tqdm>=4.66.3->datasets) (0.4.6)\n",
            "Requirement already satisfied: python-dateutil>=2.8.2 in c:\\users\\raviksh\\miniconda3\\envs\\chat_arena\\lib\\site-packages (from pandas->datasets) (2.9.0.post0)\n",
            "Requirement already satisfied: pytz>=2020.1 in c:\\users\\raviksh\\miniconda3\\envs\\chat_arena\\lib\\site-packages (from pandas->datasets) (2024.2)\n",
            "Requirement already satisfied: tzdata>=2022.7 in c:\\users\\raviksh\\miniconda3\\envs\\chat_arena\\lib\\site-packages (from pandas->datasets) (2024.2)\n",
            "Requirement already satisfied: six>=1.5 in c:\\users\\raviksh\\miniconda3\\envs\\chat_arena\\lib\\site-packages (from python-dateutil>=2.8.2->pandas->datasets) (1.17.0)\n",
            "Note: you may need to restart the kernel to use updated packages.\n"
          ]
        }
      ],
      "source": [
        "pip install datasets"
      ]
    },
    {
      "cell_type": "code",
      "execution_count": null,
      "metadata": {
        "execution": {
          "iopub.execute_input": "2024-12-17T07:17:01.154717Z",
          "iopub.status.busy": "2024-12-17T07:17:01.153999Z",
          "iopub.status.idle": "2024-12-17T07:17:19.632625Z",
          "shell.execute_reply": "2024-12-17T07:17:19.631558Z",
          "shell.execute_reply.started": "2024-12-17T07:17:01.154653Z"
        },
        "trusted": true,
        "id": "y-JGrF4y4YkG",
        "outputId": "c804f068-f15e-4266-9bdc-3e3af235f557"
      },
      "outputs": [
        {
          "name": "stdout",
          "output_type": "stream",
          "text": [
            "Requirement already satisfied: transformers==4.45.2 in c:\\users\\raviksh\\miniconda3\\envs\\chat_arena\\lib\\site-packages (4.45.2)\n",
            "Requirement already satisfied: sentence-transformers==3.1.1 in c:\\users\\raviksh\\miniconda3\\envs\\chat_arena\\lib\\site-packages (3.1.1)\n",
            "Requirement already satisfied: filelock in c:\\users\\raviksh\\miniconda3\\envs\\chat_arena\\lib\\site-packages (from transformers==4.45.2) (3.16.1)\n",
            "Requirement already satisfied: huggingface-hub<1.0,>=0.23.2 in c:\\users\\raviksh\\miniconda3\\envs\\chat_arena\\lib\\site-packages (from transformers==4.45.2) (0.27.0)\n",
            "Requirement already satisfied: numpy>=1.17 in c:\\users\\raviksh\\miniconda3\\envs\\chat_arena\\lib\\site-packages (from transformers==4.45.2) (2.2.1)\n",
            "Requirement already satisfied: packaging>=20.0 in c:\\users\\raviksh\\miniconda3\\envs\\chat_arena\\lib\\site-packages (from transformers==4.45.2) (24.2)\n",
            "Requirement already satisfied: pyyaml>=5.1 in c:\\users\\raviksh\\miniconda3\\envs\\chat_arena\\lib\\site-packages (from transformers==4.45.2) (6.0.2)\n",
            "Requirement already satisfied: regex!=2019.12.17 in c:\\users\\raviksh\\miniconda3\\envs\\chat_arena\\lib\\site-packages (from transformers==4.45.2) (2024.11.6)\n",
            "Requirement already satisfied: requests in c:\\users\\raviksh\\miniconda3\\envs\\chat_arena\\lib\\site-packages (from transformers==4.45.2) (2.32.3)\n",
            "Requirement already satisfied: safetensors>=0.4.1 in c:\\users\\raviksh\\miniconda3\\envs\\chat_arena\\lib\\site-packages (from transformers==4.45.2) (0.5.0)\n",
            "Requirement already satisfied: tokenizers<0.21,>=0.20 in c:\\users\\raviksh\\miniconda3\\envs\\chat_arena\\lib\\site-packages (from transformers==4.45.2) (0.20.3)\n",
            "Requirement already satisfied: tqdm>=4.27 in c:\\users\\raviksh\\miniconda3\\envs\\chat_arena\\lib\\site-packages (from transformers==4.45.2) (4.67.1)\n",
            "Requirement already satisfied: torch>=1.11.0 in c:\\users\\raviksh\\miniconda3\\envs\\chat_arena\\lib\\site-packages (from sentence-transformers==3.1.1) (2.5.0)\n",
            "Requirement already satisfied: scikit-learn in c:\\users\\raviksh\\miniconda3\\envs\\chat_arena\\lib\\site-packages (from sentence-transformers==3.1.1) (1.6.0)\n",
            "Requirement already satisfied: scipy in c:\\users\\raviksh\\miniconda3\\envs\\chat_arena\\lib\\site-packages (from sentence-transformers==3.1.1) (1.15.0)\n",
            "Requirement already satisfied: Pillow in c:\\users\\raviksh\\miniconda3\\envs\\chat_arena\\lib\\site-packages (from sentence-transformers==3.1.1) (10.4.0)\n",
            "Requirement already satisfied: fsspec>=2023.5.0 in c:\\users\\raviksh\\miniconda3\\envs\\chat_arena\\lib\\site-packages (from huggingface-hub<1.0,>=0.23.2->transformers==4.45.2) (2024.9.0)\n",
            "Requirement already satisfied: typing-extensions>=3.7.4.3 in c:\\users\\raviksh\\miniconda3\\envs\\chat_arena\\lib\\site-packages (from huggingface-hub<1.0,>=0.23.2->transformers==4.45.2) (4.12.2)\n",
            "Requirement already satisfied: networkx in c:\\users\\raviksh\\miniconda3\\envs\\chat_arena\\lib\\site-packages (from torch>=1.11.0->sentence-transformers==3.1.1) (3.4.2)\n",
            "Requirement already satisfied: jinja2 in c:\\users\\raviksh\\miniconda3\\envs\\chat_arena\\lib\\site-packages (from torch>=1.11.0->sentence-transformers==3.1.1) (3.1.5)\n",
            "Requirement already satisfied: sympy==1.13.1 in c:\\users\\raviksh\\miniconda3\\envs\\chat_arena\\lib\\site-packages (from torch>=1.11.0->sentence-transformers==3.1.1) (1.13.1)\n",
            "Requirement already satisfied: mpmath<1.4,>=1.1.0 in c:\\users\\raviksh\\miniconda3\\envs\\chat_arena\\lib\\site-packages (from sympy==1.13.1->torch>=1.11.0->sentence-transformers==3.1.1) (1.3.0)\n",
            "Requirement already satisfied: colorama in c:\\users\\raviksh\\miniconda3\\envs\\chat_arena\\lib\\site-packages (from tqdm>=4.27->transformers==4.45.2) (0.4.6)\n",
            "Requirement already satisfied: charset_normalizer<4,>=2 in c:\\users\\raviksh\\miniconda3\\envs\\chat_arena\\lib\\site-packages (from requests->transformers==4.45.2) (3.4.1)\n",
            "Requirement already satisfied: idna<4,>=2.5 in c:\\users\\raviksh\\miniconda3\\envs\\chat_arena\\lib\\site-packages (from requests->transformers==4.45.2) (3.10)\n",
            "Requirement already satisfied: urllib3<3,>=1.21.1 in c:\\users\\raviksh\\miniconda3\\envs\\chat_arena\\lib\\site-packages (from requests->transformers==4.45.2) (2.3.0)\n",
            "Requirement already satisfied: certifi>=2017.4.17 in c:\\users\\raviksh\\miniconda3\\envs\\chat_arena\\lib\\site-packages (from requests->transformers==4.45.2) (2024.12.14)\n",
            "Requirement already satisfied: joblib>=1.2.0 in c:\\users\\raviksh\\miniconda3\\envs\\chat_arena\\lib\\site-packages (from scikit-learn->sentence-transformers==3.1.1) (1.4.2)\n",
            "Requirement already satisfied: threadpoolctl>=3.1.0 in c:\\users\\raviksh\\miniconda3\\envs\\chat_arena\\lib\\site-packages (from scikit-learn->sentence-transformers==3.1.1) (3.5.0)\n",
            "Requirement already satisfied: MarkupSafe>=2.0 in c:\\users\\raviksh\\miniconda3\\envs\\chat_arena\\lib\\site-packages (from jinja2->torch>=1.11.0->sentence-transformers==3.1.1) (3.0.2)\n"
          ]
        }
      ],
      "source": [
        "!pip install transformers==4.45.2 sentence-transformers==3.1.1"
      ]
    },
    {
      "cell_type": "code",
      "execution_count": null,
      "metadata": {
        "execution": {
          "iopub.execute_input": "2024-12-17T07:17:19.634578Z",
          "iopub.status.busy": "2024-12-17T07:17:19.634198Z",
          "iopub.status.idle": "2024-12-17T07:17:37.050405Z",
          "shell.execute_reply": "2024-12-17T07:17:37.049472Z",
          "shell.execute_reply.started": "2024-12-17T07:17:19.634539Z"
        },
        "id": "FmRt6aGZq01W",
        "trusted": true,
        "outputId": "bf026f0b-9612-4a95-ad87-0ff1e6e55bd2"
      },
      "outputs": [
        {
          "name": "stderr",
          "output_type": "stream",
          "text": [
            "c:\\Users\\Raviksh\\miniconda3\\envs\\chat_arena\\lib\\site-packages\\tqdm\\auto.py:21: TqdmWarning: IProgress not found. Please update jupyter and ipywidgets. See https://ipywidgets.readthedocs.io/en/stable/user_install.html\n",
            "  from .autonotebook import tqdm as notebook_tqdm\n"
          ]
        }
      ],
      "source": [
        "from datasets import load_dataset\n",
        "from sentence_transformers import (\n",
        "    SentenceTransformer,\n",
        "    SentenceTransformerTrainer,\n",
        ")\n",
        "from sentence_transformers.losses import MultipleNegativesRankingLoss\n",
        "from sentence_transformers.evaluation import TripletEvaluator\n"
      ]
    },
    {
      "cell_type": "code",
      "execution_count": null,
      "metadata": {
        "execution": {
          "iopub.execute_input": "2024-12-17T07:17:37.053000Z",
          "iopub.status.busy": "2024-12-17T07:17:37.052382Z",
          "iopub.status.idle": "2024-12-17T07:17:39.960614Z",
          "shell.execute_reply": "2024-12-17T07:17:39.959887Z",
          "shell.execute_reply.started": "2024-12-17T07:17:37.052970Z"
        },
        "id": "ghVhBuDNhFdx",
        "trusted": true
      },
      "outputs": [],
      "source": [
        "# for my custom dataset\n",
        "\n",
        "import pandas as pd\n",
        "\n",
        "train = pd.read_parquet('./train.parquet')"
      ]
    },
    {
      "cell_type": "code",
      "execution_count": null,
      "metadata": {
        "colab": {
          "base_uri": "https://localhost:8080/"
        },
        "execution": {
          "iopub.execute_input": "2024-12-17T07:17:39.962017Z",
          "iopub.status.busy": "2024-12-17T07:17:39.961702Z",
          "iopub.status.idle": "2024-12-17T07:17:43.904185Z",
          "shell.execute_reply": "2024-12-17T07:17:43.903272Z",
          "shell.execute_reply.started": "2024-12-17T07:17:39.961989Z"
        },
        "id": "ALtxPgulq33F",
        "outputId": "fbdbfdb8-5fc9-48bc-ef00-ed23b6e08bed",
        "trusted": true
      },
      "outputs": [
        {
          "name": "stdout",
          "output_type": "stream",
          "text": [
            "                                              anchor  \\\n",
            "0                                 vieš po Slovensky?   \n",
            "1  You will be given a piece of news. Analyze it ...   \n",
            "2  Dört basamaklı, rakamları birbirinden ve sıfır...   \n",
            "3  현재 추천된 탑 3 종목인 Cabaletta Bio (CABA), Rocket Ph...   \n",
            "4                                  Please be boring    \n",
            "\n",
            "                                            positive  \\\n",
            "0   Áno, hovorím po slovensky. Ako vám môžem pomôcť?   \n",
            "1  Let's break down the news and analyze it accor...   \n",
            "2  Bu soruyu çözmek için, verilen koşulları adım ...   \n",
            "3  현재 추천된 탑 3 종목에 순위를 매기기 위해서는 여러 가지 요소들을 고려해야 합니...   \n",
            "4  Alright, I'll be as boring as possible.\\n\\nTod...   \n",
            "\n",
            "                                            negative  \n",
            "0  Áno, veď som tu! Môžem ti pomôcť s otázkami al...  \n",
            "1  ```json\\n{\\n  \"contains_orgs\": true,\\n  \"orgs\"...  \n",
            "2  Bu problemi adım adım çözelim:\\n\\n1) ABCD - DC...  \n",
            "3  죄송하지만 저는 금융 조언을 제공할 수 없습니다. 저는 AI 모델이며, 투자 결정에...  \n",
            "4  Understood. Here is a straightforward, unadorn...  \n"
          ]
        }
      ],
      "source": [
        "import pandas as pd\n",
        "\n",
        "# Initialize an empty list to store rows for the DataFrame\n",
        "data = []\n",
        "\n",
        "# Loop through the dataset to create triplets\n",
        "n_examples = len(train)\n",
        "for i in range(n_examples):\n",
        "    prompt = train.iloc[i]['prompt']\n",
        "    response_a = train.iloc[i]['response_a']\n",
        "    response_b = train.iloc[i]['response_b']\n",
        "    label = train.iloc[i]['winner']\n",
        "\n",
        "    if label == 'model_a':\n",
        "        data.append({\n",
        "            \"anchor\": prompt,\n",
        "            \"positive\": response_a,\n",
        "            \"negative\": response_b\n",
        "        })\n",
        "    elif label == 'model_b':\n",
        "        data.append({\n",
        "            \"anchor\": prompt,\n",
        "            \"positive\": response_b,\n",
        "            \"negative\": response_a\n",
        "        })\n",
        "    else:\n",
        "        print(f\"Error in row {i}: Unexpected label value '{label}'\")\n",
        "\n",
        "# Convert the list of dictionaries into a DataFrame\n",
        "triplets_df = pd.DataFrame(data)\n",
        "\n",
        "# Display the first few rows of the DataFrame\n",
        "print(triplets_df.head())\n"
      ]
    },
    {
      "cell_type": "code",
      "execution_count": null,
      "metadata": {
        "colab": {
          "base_uri": "https://localhost:8080/"
        },
        "execution": {
          "iopub.execute_input": "2024-12-17T07:17:43.905841Z",
          "iopub.status.busy": "2024-12-17T07:17:43.905498Z",
          "iopub.status.idle": "2024-12-17T07:17:43.935583Z",
          "shell.execute_reply": "2024-12-17T07:17:43.934742Z",
          "shell.execute_reply.started": "2024-12-17T07:17:43.905815Z"
        },
        "id": "CrCCIqPDgIvt",
        "outputId": "14a4e805-d27d-48ca-d02f-3bfc2adf21f1",
        "trusted": true
      },
      "outputs": [
        {
          "name": "stdout",
          "output_type": "stream",
          "text": [
            "Train Set:\n",
            "                                                  anchor  \\\n",
            "10277  Can you group these words in groups of 4: HAT ...   \n",
            "1696   よほど楽しいことをしてない限り怒りがこみあげてくるわけよ。もう、ずっと、ものすごく楽しいこと...   \n",
            "7416   rewrite: \\nFuel your tech adventures with the ...   \n",
            "11168  do a summary of \"STATISTICAL PARADISES AND PAR...   \n",
            "6865   Viết 1 đoạn văn giới thiệu về thành phố Long X...   \n",
            "\n",
            "                                                positive  \\\n",
            "10277  Here are the grouped words in categories of 4:...   \n",
            "1696   それは、かなり大変な状況ですね。楽しいことを見つけ続けるのはエネルギーが必要ですし、常に楽し...   \n",
            "7416   **Elevate Your iPhone 16 Experience with Unmat...   \n",
            "11168  ## Statistical Paradises and Paradoxes in Big ...   \n",
            "6865   Thành phố Long Xuyên, thủ phủ của tỉnh An Gian...   \n",
            "\n",
            "                                                negative  \n",
            "10277  Here's one possible grouping of the words into...  \n",
            "1696   心境に感謝し、自分自身の気持ちを正確に捉えることが大切です。日々の快乐を求めるのは当然のこと...  \n",
            "7416   Embark on your technological journey with the ...  \n",
            "11168  ##  Statistical Paradises & Paradoxes in Big D...  \n",
            "6865   Thành phố Long Xuyên, thuộc tỉnh An Giang, là ...  \n",
            "\n",
            "Test Set:\n",
            "                                                  anchor  \\\n",
            "28966                                         c++如何实现快速幂   \n",
            "36858  Case reports (entirely fictional and only for ...   \n",
            "44109       команды терминала для открытия файлов на мак   \n",
            "1219   你是一个精通韩文和中文的人工智能，能将韩语翻译成流畅，灵动，优雅的中文。在翻译的过程中，你需...   \n",
            "29884  You are the leadership team of Anderson Univer...   \n",
            "\n",
            "                                                positive  \\\n",
            "28966  在C++中，实现快速幂（也称为快速幂取模）可以通过二分法来优化幂运算的效率，尤其是在处理大数...   \n",
            "36858  ### Easy Cases\\n\\n#### Case 1: 40-year-old Fem...   \n",
            "44109  На Mac вы можете открыть файлы из терминала, и...   \n",
            "1219                                       请提供需要翻译的韩文内容。   \n",
            "29884  **Strategic Plan for Anderson University**\\n\\n...   \n",
            "\n",
            "                                                negative  \n",
            "28966  ```cpp\\n#include <iostream>\\n\\nusing namespace...  \n",
            "36858  ### Evaluation of Theodosian Surgery for Ficti...  \n",
            "44109  На MacOS используются различные команды через ...  \n",
            "1219                                    好的，请提供需要翻译的韩文文本。  \n",
            "29884  To address the challenges and leverage the opp...  \n"
          ]
        }
      ],
      "source": [
        "from sklearn.model_selection import train_test_split\n",
        "\n",
        "# Split the DataFrame into train and test sets\n",
        "train_df, test_df = train_test_split(triplets_df, test_size=0.2, random_state=42)\n",
        "\n",
        "# Display the first few rows of each split\n",
        "print(\"Train Set:\")\n",
        "print(train_df.head())\n",
        "\n",
        "print(\"\\nTest Set:\")\n",
        "print(test_df.head())\n"
      ]
    },
    {
      "cell_type": "code",
      "execution_count": null,
      "metadata": {
        "id": "umuoSvQV4YkJ"
      },
      "outputs": [],
      "source": [
        "from sentence_transformers import SentenceTransformer\n",
        "model = SentenceTransformer(\"C:\\\\Users\\\\Raviksh\\\\Downloads\\\\finetune_sentence_transformer\\\\BAAI_bge_large_en_v1.5\")"
      ]
    },
    {
      "cell_type": "code",
      "execution_count": null,
      "metadata": {
        "execution": {
          "iopub.execute_input": "2024-12-17T07:17:51.416721Z",
          "iopub.status.busy": "2024-12-17T07:17:51.416429Z",
          "iopub.status.idle": "2024-12-17T07:17:51.420912Z",
          "shell.execute_reply": "2024-12-17T07:17:51.420029Z",
          "shell.execute_reply.started": "2024-12-17T07:17:51.416685Z"
        },
        "id": "O42-3fWutaGQ",
        "trusted": true
      },
      "outputs": [],
      "source": [
        "loss = MultipleNegativesRankingLoss(model)\n"
      ]
    },
    {
      "cell_type": "code",
      "execution_count": null,
      "metadata": {
        "execution": {
          "iopub.execute_input": "2024-12-17T07:17:51.424421Z",
          "iopub.status.busy": "2024-12-17T07:17:51.423588Z",
          "iopub.status.idle": "2024-12-17T07:17:55.042406Z",
          "shell.execute_reply": "2024-12-17T07:17:55.041448Z",
          "shell.execute_reply.started": "2024-12-17T07:17:51.424381Z"
        },
        "id": "028VzExw4XWx",
        "trusted": true
      },
      "outputs": [],
      "source": [
        "from datasets import Dataset\n",
        "tr = Dataset.from_dict({\n",
        "    \"anchor\": list(train_df['anchor']),\n",
        "    \"positive\": list(train_df['positive']),\n",
        "    \"negative\": list(train_df['negative'])\n",
        "})\n",
        "\n",
        "te = Dataset.from_dict({\n",
        "    \"anchor\": list(test_df['anchor']),\n",
        "    \"positive\": list(test_df['positive']),\n",
        "    \"negative\": list(test_df['negative'])\n",
        "})"
      ]
    },
    {
      "cell_type": "code",
      "execution_count": null,
      "metadata": {
        "id": "TdHXrv2W4YkK"
      },
      "outputs": [],
      "source": [
        "train_dataset = tr  # Your training dataset\n",
        "eval_dataset = te  # Your evaluation dataset\n"
      ]
    },
    {
      "cell_type": "code",
      "execution_count": null,
      "metadata": {
        "id": "R-2tyrXq4YkL"
      },
      "outputs": [],
      "source": [
        "from sentence_transformers import SentenceTransformer, InputExample, losses, SentenceTransformerTrainer, SentenceTransformerTrainingArguments\n",
        "from torch.optim import AdamW\n",
        "#from transformers import get_linear_schedule_with_warmup\n",
        "\n",
        "optimizer = AdamW(model.parameters(), lr=6e-5)  # Adjust the learning rate as needed\n"
      ]
    },
    {
      "cell_type": "code",
      "execution_count": null,
      "metadata": {
        "id": "dkHokf8i4YkL"
      },
      "outputs": [],
      "source": [
        "# num_training_steps = len(train_dataset) * 5  # Assuming 5 epochs\n",
        "# num_warmup_steps = int(0.1 * num_training_steps)  # Warmup steps (10% of total steps)\n",
        "# scheduler = get_linear_schedule_with_warmup(optimizer, num_warmup_steps=num_warmup_steps, num_training_steps=num_training_steps)\n"
      ]
    },
    {
      "cell_type": "code",
      "execution_count": null,
      "metadata": {
        "id": "N-n-onVg4YkL"
      },
      "outputs": [],
      "source": [
        "from transformers import get_cosine_schedule_with_warmup\n",
        "batch_size = 8\n",
        "num_epochs = 5\n",
        "num_training_steps = (len(train_dataset) // batch_size) * num_epochs  # Total steps\n",
        "num_warmup_steps = int(0.1 * num_training_steps)  # 10% warm-up (adjustable)\n",
        "\n",
        "scheduler = get_cosine_schedule_with_warmup(\n",
        "    optimizer,\n",
        "    num_warmup_steps=num_warmup_steps,\n",
        "    num_training_steps=num_training_steps\n",
        ")\n"
      ]
    },
    {
      "cell_type": "code",
      "execution_count": null,
      "metadata": {
        "id": "Wq1JWvi84YkL",
        "outputId": "7084f3f2-4ff0-4df9-9a20-0da37897bc44"
      },
      "outputs": [
        {
          "name": "stderr",
          "output_type": "stream",
          "text": [
            "c:\\Users\\Raviksh\\miniconda3\\envs\\chat_arena\\lib\\site-packages\\transformers\\training_args.py:1545: FutureWarning: `evaluation_strategy` is deprecated and will be removed in version 4.46 of 🤗 Transformers. Use `eval_strategy` instead\n",
            "  warnings.warn(\n"
          ]
        }
      ],
      "source": [
        "training_args = SentenceTransformerTrainingArguments(\n",
        "    output_dir=\"./results\",               # Directory to save results\n",
        "    num_train_epochs=5,                   # Number of epochs\n",
        "    per_device_train_batch_size=8,        # Batch size for training\n",
        "    logging_dir=\"./logs\",                 # Directory for storing logs\n",
        "    evaluation_strategy=\"epoch\",          # Evaluate at the end of each epoch\n",
        "    save_strategy=\"epoch\",                # Save model at the end of each epoch\n",
        "    save_total_limit=5,                   # Keep only 2 checkpoints\n",
        "    metric_for_best_model=\"eval_loss\",    # Use eval loss to select the best model\n",
        "    greater_is_better=False,              # Lower eval loss is better\n",
        "    load_best_model_at_end=True,          # Load the best model after training\n",
        ")\n"
      ]
    },
    {
      "cell_type": "code",
      "execution_count": null,
      "metadata": {
        "id": "5cPjrfs14YkL"
      },
      "outputs": [],
      "source": [
        "trainer = SentenceTransformerTrainer(\n",
        "    model=model,\n",
        "    args=training_args,\n",
        "    train_dataset=train_dataset,\n",
        "    eval_dataset=eval_dataset,\n",
        "    loss=loss,\n",
        "    optimizers=(optimizer, scheduler)  # Pass the custom optimizer and scheduler\n",
        ")\n"
      ]
    },
    {
      "cell_type": "code",
      "execution_count": null,
      "metadata": {
        "trusted": true,
        "id": "fgSFdYJn4YkM",
        "outputId": "de75d5f9-9b68-43e9-938b-cd86a723996d"
      },
      "outputs": [
        {
          "name": "stderr",
          "output_type": "stream",
          "text": [
            "  2%|▏         | 500/24220 [25:35<20:01:53,  3.04s/it]"
          ]
        },
        {
          "name": "stdout",
          "output_type": "stream",
          "text": [
            "{'loss': 0.9917, 'grad_norm': 14.937872886657715, 'learning_rate': 1.2391573729863692e-05, 'epoch': 0.1}\n"
          ]
        },
        {
          "name": "stderr",
          "output_type": "stream",
          "text": [
            "  4%|▍         | 1000/24220 [51:27<19:57:41,  3.09s/it]"
          ]
        },
        {
          "name": "stdout",
          "output_type": "stream",
          "text": [
            "{'loss': 0.844, 'grad_norm': 8.561187744140625, 'learning_rate': 2.4783147459727385e-05, 'epoch': 0.21}\n"
          ]
        },
        {
          "name": "stderr",
          "output_type": "stream",
          "text": [
            "  6%|▌         | 1500/24220 [1:17:16<19:32:44,  3.10s/it]"
          ]
        },
        {
          "name": "stdout",
          "output_type": "stream",
          "text": [
            "{'loss': 0.8357, 'grad_norm': 12.466208457946777, 'learning_rate': 3.717472118959108e-05, 'epoch': 0.31}\n"
          ]
        },
        {
          "name": "stderr",
          "output_type": "stream",
          "text": [
            "  8%|▊         | 2000/24220 [1:43:07<19:08:58,  3.10s/it]"
          ]
        },
        {
          "name": "stdout",
          "output_type": "stream",
          "text": [
            "{'loss': 0.8288, 'grad_norm': 10.600460052490234, 'learning_rate': 4.956629491945477e-05, 'epoch': 0.41}\n"
          ]
        },
        {
          "name": "stderr",
          "output_type": "stream",
          "text": [
            " 10%|█         | 2500/24220 [2:08:52<18:36:53,  3.09s/it]"
          ]
        },
        {
          "name": "stdout",
          "output_type": "stream",
          "text": [
            "{'loss': 0.8637, 'grad_norm': 7.649990081787109, 'learning_rate': 5.999805478952071e-05, 'epoch': 0.52}\n"
          ]
        },
        {
          "name": "stderr",
          "output_type": "stream",
          "text": [
            " 12%|█▏        | 3000/24220 [2:34:32<18:09:46,  3.08s/it]"
          ]
        },
        {
          "name": "stdout",
          "output_type": "stream",
          "text": [
            "{'loss': 0.8468, 'grad_norm': 6.945950031280518, 'learning_rate': 5.989557076021444e-05, 'epoch': 0.62}\n"
          ]
        },
        {
          "name": "stderr",
          "output_type": "stream",
          "text": [
            " 14%|█▍        | 3500/24220 [3:00:10<17:37:56,  3.06s/it]"
          ]
        },
        {
          "name": "stdout",
          "output_type": "stream",
          "text": [
            "{'loss': 0.8498, 'grad_norm': 6.96848726272583, 'learning_rate': 5.9637853499770356e-05, 'epoch': 0.72}\n"
          ]
        },
        {
          "name": "stderr",
          "output_type": "stream",
          "text": [
            " 17%|█▋        | 4000/24220 [3:25:44<17:09:17,  3.05s/it]"
          ]
        },
        {
          "name": "stdout",
          "output_type": "stream",
          "text": [
            "{'loss': 0.8556, 'grad_norm': 7.884798049926758, 'learning_rate': 5.9226241209200886e-05, 'epoch': 0.83}\n"
          ]
        },
        {
          "name": "stderr",
          "output_type": "stream",
          "text": [
            " 19%|█▊        | 4500/24220 [3:51:19<16:52:14,  3.08s/it]"
          ]
        },
        {
          "name": "stdout",
          "output_type": "stream",
          "text": [
            "{'loss': 0.8614, 'grad_norm': 4.905048370361328, 'learning_rate': 5.866287119193313e-05, 'epoch': 0.93}\n"
          ]
        },
        {
          "name": "stderr",
          "output_type": "stream",
          "text": [
            "                                                         \n",
            " 20%|██        | 4844/24220 [4:12:13<16:20:32,  3.04s/it]"
          ]
        },
        {
          "name": "stdout",
          "output_type": "stream",
          "text": [
            "{'eval_loss': 0.8219038248062134, 'eval_runtime': 199.1762, 'eval_samples_per_second': 48.64, 'eval_steps_per_second': 6.08, 'epoch': 1.0}\n"
          ]
        },
        {
          "name": "stderr",
          "output_type": "stream",
          "text": [
            " 21%|██        | 5000/24220 [4:20:19<16:23:56,  3.07s/it] "
          ]
        },
        {
          "name": "stdout",
          "output_type": "stream",
          "text": [
            "{'loss': 0.8081, 'grad_norm': 10.822230339050293, 'learning_rate': 5.7950668755826526e-05, 'epoch': 1.03}\n"
          ]
        },
        {
          "name": "stderr",
          "output_type": "stream",
          "text": [
            " 23%|██▎       | 5500/24220 [4:45:53<16:01:26,  3.08s/it]"
          ]
        },
        {
          "name": "stdout",
          "output_type": "stream",
          "text": [
            "{'loss': 0.9177, 'grad_norm': 25.40943145751953, 'learning_rate': 5.7093332023464756e-05, 'epoch': 1.14}\n"
          ]
        },
        {
          "name": "stderr",
          "output_type": "stream",
          "text": [
            " 25%|██▍       | 6000/24220 [5:11:26<15:35:27,  3.08s/it]"
          ]
        },
        {
          "name": "stdout",
          "output_type": "stream",
          "text": [
            "{'loss': 0.9405, 'grad_norm': 39.461612701416016, 'learning_rate': 5.609531272959494e-05, 'epoch': 1.24}\n"
          ]
        },
        {
          "name": "stderr",
          "output_type": "stream",
          "text": [
            " 27%|██▋       | 6500/24220 [5:37:02<15:04:46,  3.06s/it]"
          ]
        },
        {
          "name": "stdout",
          "output_type": "stream",
          "text": [
            "{'loss': 1.6099, 'grad_norm': 16.350177764892578, 'learning_rate': 5.496179310542342e-05, 'epoch': 1.34}\n"
          ]
        },
        {
          "name": "stderr",
          "output_type": "stream",
          "text": [
            " 29%|██▉       | 7000/24220 [6:02:36<14:43:15,  3.08s/it]"
          ]
        },
        {
          "name": "stdout",
          "output_type": "stream",
          "text": [
            "{'loss': 1.3897, 'grad_norm': 12.730401039123535, 'learning_rate': 5.3698658969797064e-05, 'epoch': 1.45}\n"
          ]
        },
        {
          "name": "stderr",
          "output_type": "stream",
          "text": [
            " 31%|███       | 7500/24220 [6:28:12<14:19:37,  3.08s/it]"
          ]
        },
        {
          "name": "stdout",
          "output_type": "stream",
          "text": [
            "{'loss': 0.8337, 'grad_norm': 13.508018493652344, 'learning_rate': 5.2312469166994395e-05, 'epoch': 1.55}\n"
          ]
        },
        {
          "name": "stderr",
          "output_type": "stream",
          "text": [
            " 33%|███▎      | 8000/24220 [6:53:46<13:56:16,  3.09s/it]"
          ]
        },
        {
          "name": "stdout",
          "output_type": "stream",
          "text": [
            "{'loss': 1.3375, 'grad_norm': 6.692089080810547, 'learning_rate': 5.081042150982137e-05, 'epoch': 1.65}\n"
          ]
        },
        {
          "name": "stderr",
          "output_type": "stream",
          "text": [
            " 35%|███▌      | 8500/24220 [7:19:20<13:24:37,  3.07s/it]"
          ]
        },
        {
          "name": "stdout",
          "output_type": "stream",
          "text": [
            "{'loss': 0.7632, 'grad_norm': 6.210781574249268, 'learning_rate': 4.9200315404852826e-05, 'epoch': 1.75}\n"
          ]
        },
        {
          "name": "stderr",
          "output_type": "stream",
          "text": [
            " 37%|███▋      | 9000/24220 [7:44:57<12:51:58,  3.04s/it]"
          ]
        },
        {
          "name": "stdout",
          "output_type": "stream",
          "text": [
            "{'loss': 0.748, 'grad_norm': 9.766450881958008, 'learning_rate': 4.749051135388865e-05, 'epoch': 1.86}\n"
          ]
        },
        {
          "name": "stderr",
          "output_type": "stream",
          "text": [
            " 39%|███▉      | 9500/24220 [8:10:31<12:16:45,  3.00s/it]"
          ]
        },
        {
          "name": "stdout",
          "output_type": "stream",
          "text": [
            "{'loss': 0.7391, 'grad_norm': 16.904808044433594, 'learning_rate': 4.568988754191393e-05, 'epoch': 1.96}\n"
          ]
        },
        {
          "name": "stderr",
          "output_type": "stream",
          "text": [
            "                                                         \n",
            " 40%|████      | 9688/24220 [8:23:09<12:07:01,  3.00s/it]"
          ]
        },
        {
          "name": "stdout",
          "output_type": "stream",
          "text": [
            "{'eval_loss': 0.8427066206932068, 'eval_runtime': 196.5122, 'eval_samples_per_second': 49.3, 'eval_steps_per_second': 6.162, 'epoch': 2.0}\n"
          ]
        },
        {
          "name": "stderr",
          "output_type": "stream",
          "text": [
            " 41%|████▏     | 10000/24220 [8:38:52<11:47:50,  2.99s/it]"
          ]
        },
        {
          "name": "stdout",
          "output_type": "stream",
          "text": [
            "{'loss': 0.9193, 'grad_norm': 3.257291555404663, 'learning_rate': 4.380779373698084e-05, 'epoch': 2.06}\n"
          ]
        },
        {
          "name": "stderr",
          "output_type": "stream",
          "text": [
            " 43%|████▎     | 10500/24220 [9:03:48<11:20:45,  2.98s/it]"
          ]
        },
        {
          "name": "stdout",
          "output_type": "stream",
          "text": [
            "{'loss': 0.7334, 'grad_norm': 16.266300201416016, 'learning_rate': 4.185400274138806e-05, 'epoch': 2.17}\n"
          ]
        },
        {
          "name": "stderr",
          "output_type": "stream",
          "text": [
            " 45%|████▌     | 11000/24220 [9:28:45<11:00:38,  3.00s/it]"
          ]
        },
        {
          "name": "stdout",
          "output_type": "stream",
          "text": [
            "{'loss': 0.6299, 'grad_norm': 11.509878158569336, 'learning_rate': 3.9838659646247754e-05, 'epoch': 2.27}\n"
          ]
        },
        {
          "name": "stderr",
          "output_type": "stream",
          "text": [
            " 47%|████▋     | 11500/24220 [9:53:42<10:32:02,  2.98s/it]"
          ]
        },
        {
          "name": "stdout",
          "output_type": "stream",
          "text": [
            "{'loss': 0.6552, 'grad_norm': 5.4828314781188965, 'learning_rate': 3.7772229152937264e-05, 'epoch': 2.37}\n"
          ]
        },
        {
          "name": "stderr",
          "output_type": "stream",
          "text": [
            " 50%|████▉     | 12000/24220 [10:18:41<10:09:55,  2.99s/it]"
          ]
        },
        {
          "name": "stdout",
          "output_type": "stream",
          "text": [
            "{'loss': 0.6462, 'grad_norm': 12.842888832092285, 'learning_rate': 3.566544123496908e-05, 'epoch': 2.48}\n"
          ]
        },
        {
          "name": "stderr",
          "output_type": "stream",
          "text": [
            " 52%|█████▏    | 12500/24220 [10:43:39<9:47:13,  3.01s/it] "
          ]
        },
        {
          "name": "stdout",
          "output_type": "stream",
          "text": [
            "{'loss': 0.8843, 'grad_norm': 11.981834411621094, 'learning_rate': 3.352923542243117e-05, 'epoch': 2.58}\n"
          ]
        },
        {
          "name": "stderr",
          "output_type": "stream",
          "text": [
            " 54%|█████▎    | 13000/24220 [11:08:35<9:22:55,  3.01s/it]"
          ]
        },
        {
          "name": "stdout",
          "output_type": "stream",
          "text": [
            "{'loss': 0.6229, 'grad_norm': 10.547221183776855, 'learning_rate': 3.1374703998301354e-05, 'epoch': 2.68}\n"
          ]
        },
        {
          "name": "stderr",
          "output_type": "stream",
          "text": [
            " 56%|█████▌    | 13500/24220 [11:33:32<8:54:29,  2.99s/it]"
          ]
        },
        {
          "name": "stdout",
          "output_type": "stream",
          "text": [
            "{'loss': 0.6116, 'grad_norm': 8.999836921691895, 'learning_rate': 2.9213034401589843e-05, 'epoch': 2.79}\n"
          ]
        },
        {
          "name": "stderr",
          "output_type": "stream",
          "text": [
            " 58%|█████▊    | 14000/24220 [11:58:32<8:31:55,  3.01s/it]"
          ]
        },
        {
          "name": "stdout",
          "output_type": "stream",
          "text": [
            "{'loss': 0.6055, 'grad_norm': 10.036020278930664, 'learning_rate': 2.7055451136382616e-05, 'epoch': 2.89}\n"
          ]
        },
        {
          "name": "stderr",
          "output_type": "stream",
          "text": [
            " 60%|█████▉    | 14500/24220 [12:23:33<8:06:18,  3.00s/it]"
          ]
        },
        {
          "name": "stdout",
          "output_type": "stream",
          "text": [
            "{'loss': 0.6195, 'grad_norm': 11.372234344482422, 'learning_rate': 2.491315748842366e-05, 'epoch': 2.99}\n"
          ]
        },
        {
          "name": "stderr",
          "output_type": "stream",
          "text": [
            "                                                          \n",
            " 60%|██████    | 14532/24220 [12:28:25<8:02:41,  2.99s/it]"
          ]
        },
        {
          "name": "stdout",
          "output_type": "stream",
          "text": [
            "{'eval_loss': 0.8828319311141968, 'eval_runtime': 197.6183, 'eval_samples_per_second': 49.024, 'eval_steps_per_second': 6.128, 'epoch': 3.0}\n"
          ]
        },
        {
          "name": "stderr",
          "output_type": "stream",
          "text": [
            " 62%|██████▏   | 15000/24220 [12:52:00<7:40:06,  2.99s/it]  "
          ]
        },
        {
          "name": "stdout",
          "output_type": "stream",
          "text": [
            "{'loss': 0.4185, 'grad_norm': 16.031789779663086, 'learning_rate': 2.2797277351873956e-05, 'epoch': 3.1}\n"
          ]
        },
        {
          "name": "stderr",
          "output_type": "stream",
          "text": [
            " 64%|██████▍   | 15500/24220 [13:17:00<7:15:21,  3.00s/it]"
          ]
        },
        {
          "name": "stdout",
          "output_type": "stream",
          "text": [
            "{'loss': 0.4409, 'grad_norm': 854.455078125, 'learning_rate': 2.0718797468312442e-05, 'epoch': 3.2}\n"
          ]
        },
        {
          "name": "stderr",
          "output_type": "stream",
          "text": [
            " 66%|██████▌   | 16000/24220 [13:42:00<6:51:31,  3.00s/it]"
          ]
        },
        {
          "name": "stdout",
          "output_type": "stream",
          "text": [
            "{'loss': 0.4271, 'grad_norm': 8.762587547302246, 'learning_rate': 1.8688510377903952e-05, 'epoch': 3.3}\n"
          ]
        },
        {
          "name": "stderr",
          "output_type": "stream",
          "text": [
            " 68%|██████▊   | 16500/24220 [14:07:01<6:29:10,  3.02s/it]"
          ]
        },
        {
          "name": "stdout",
          "output_type": "stream",
          "text": [
            "{'loss': 0.4036, 'grad_norm': 32.71707534790039, 'learning_rate': 1.6716958378961136e-05, 'epoch': 3.41}\n"
          ]
        },
        {
          "name": "stderr",
          "output_type": "stream",
          "text": [
            " 70%|███████   | 17000/24220 [14:32:00<6:00:18,  2.99s/it]"
          ]
        },
        {
          "name": "stdout",
          "output_type": "stream",
          "text": [
            "{'loss': 0.4106, 'grad_norm': 10.449934005737305, 'learning_rate': 1.4814378786891255e-05, 'epoch': 3.51}\n"
          ]
        },
        {
          "name": "stderr",
          "output_type": "stream",
          "text": [
            " 72%|███████▏  | 17500/24220 [14:57:01<5:36:18,  3.00s/it]"
          ]
        },
        {
          "name": "stdout",
          "output_type": "stream",
          "text": [
            "{'loss': 0.386, 'grad_norm': 18.833757400512695, 'learning_rate': 1.2990650776771533e-05, 'epoch': 3.61}\n"
          ]
        },
        {
          "name": "stderr",
          "output_type": "stream",
          "text": [
            " 74%|███████▍  | 18000/24220 [15:22:03<5:11:18,  3.00s/it]"
          ]
        },
        {
          "name": "stdout",
          "output_type": "stream",
          "text": [
            "{'loss': 0.4274, 'grad_norm': 81.62264251708984, 'learning_rate': 1.1255244085573986e-05, 'epoch': 3.72}\n"
          ]
        },
        {
          "name": "stderr",
          "output_type": "stream",
          "text": [
            " 76%|███████▋  | 18500/24220 [15:50:05<4:45:37,  3.00s/it] "
          ]
        },
        {
          "name": "stdout",
          "output_type": "stream",
          "text": [
            "{'loss': 0.4126, 'grad_norm': 7.445626258850098, 'learning_rate': 9.617169840404147e-06, 'epoch': 3.82}\n"
          ]
        },
        {
          "name": "stderr",
          "output_type": "stream",
          "text": [
            " 78%|███████▊  | 19000/24220 [16:14:58<4:20:58,  3.00s/it]"
          ]
        },
        {
          "name": "stdout",
          "output_type": "stream",
          "text": [
            "{'loss': 0.3955, 'grad_norm': 19.070829391479492, 'learning_rate': 8.084933768078922e-06, 'epoch': 3.92}\n"
          ]
        },
        {
          "name": "stderr",
          "output_type": "stream",
          "text": [
            "                                                          \n",
            " 80%|████████  | 19376/24220 [16:39:44<8:02:23,  5.98s/it]"
          ]
        },
        {
          "name": "stdout",
          "output_type": "stream",
          "text": [
            "{'eval_loss': 0.9970029592514038, 'eval_runtime': 261.4252, 'eval_samples_per_second': 37.058, 'eval_steps_per_second': 4.632, 'epoch': 4.0}\n"
          ]
        },
        {
          "name": "stderr",
          "output_type": "stream",
          "text": [
            " 81%|████████  | 19500/24220 [16:46:02<3:55:21,  2.99s/it]  "
          ]
        },
        {
          "name": "stdout",
          "output_type": "stream",
          "text": [
            "{'loss': 0.3575, 'grad_norm': 12.04888916015625, 'learning_rate': 6.666492029003463e-06, 'epoch': 4.03}\n"
          ]
        },
        {
          "name": "stderr",
          "output_type": "stream",
          "text": [
            " 83%|████████▎ | 20000/24220 [17:10:57<3:30:31,  2.99s/it]"
          ]
        },
        {
          "name": "stdout",
          "output_type": "stream",
          "text": [
            "{'loss': 0.2405, 'grad_norm': 8.26357364654541, 'learning_rate': 5.369209904680655e-06, 'epoch': 4.13}\n"
          ]
        },
        {
          "name": "stderr",
          "output_type": "stream",
          "text": [
            " 85%|████████▍ | 20500/24220 [17:35:52<3:05:18,  2.99s/it]"
          ]
        },
        {
          "name": "stdout",
          "output_type": "stream",
          "text": [
            "{'loss': 0.2524, 'grad_norm': 13.261795043945312, 'learning_rate': 4.199823553368554e-06, 'epoch': 4.23}\n"
          ]
        },
        {
          "name": "stderr",
          "output_type": "stream",
          "text": [
            " 87%|████████▋ | 21000/24220 [18:11:09<4:01:57,  4.51s/it] "
          ]
        },
        {
          "name": "stdout",
          "output_type": "stream",
          "text": [
            "{'loss': 0.2345, 'grad_norm': 5.840431213378906, 'learning_rate': 3.164405032470541e-06, 'epoch': 4.34}\n"
          ]
        },
        {
          "name": "stderr",
          "output_type": "stream",
          "text": [
            " 89%|████████▉ | 21500/24220 [18:45:15<3:07:29,  4.14s/it]"
          ]
        },
        {
          "name": "stdout",
          "output_type": "stream",
          "text": [
            "{'loss': 0.2395, 'grad_norm': 13.854308128356934, 'learning_rate': 2.2683307692797293e-06, 'epoch': 4.44}\n"
          ]
        },
        {
          "name": "stderr",
          "output_type": "stream",
          "text": [
            " 91%|█████████ | 22000/24220 [19:20:54<2:37:19,  4.25s/it]"
          ]
        },
        {
          "name": "stdout",
          "output_type": "stream",
          "text": [
            "{'loss': 0.2404, 'grad_norm': 10.368667602539062, 'learning_rate': 1.5162536437939778e-06, 'epoch': 4.54}\n"
          ]
        },
        {
          "name": "stderr",
          "output_type": "stream",
          "text": [
            " 93%|█████████▎| 22500/24220 [19:58:04<2:06:40,  4.42s/it]"
          ]
        },
        {
          "name": "stdout",
          "output_type": "stream",
          "text": [
            "{'loss': 0.2318, 'grad_norm': 32.48417282104492, 'learning_rate': 9.120788285617776e-07, 'epoch': 4.64}\n"
          ]
        },
        {
          "name": "stderr",
          "output_type": "stream",
          "text": [
            " 95%|█████████▍| 23000/24220 [20:35:16<1:31:25,  4.50s/it]"
          ]
        },
        {
          "name": "stdout",
          "output_type": "stream",
          "text": [
            "{'loss': 0.2395, 'grad_norm': 1.8681293725967407, 'learning_rate': 4.589435110110762e-07, 'epoch': 4.75}\n"
          ]
        },
        {
          "name": "stderr",
          "output_type": "stream",
          "text": [
            " 97%|█████████▋| 23500/24220 [21:11:04<50:43,  4.23s/it]  "
          ]
        },
        {
          "name": "stdout",
          "output_type": "stream",
          "text": [
            "{'loss': 0.2313, 'grad_norm': 20.09564971923828, 'learning_rate': 1.5920060355322786e-07, 'epoch': 4.85}\n"
          ]
        },
        {
          "name": "stderr",
          "output_type": "stream",
          "text": [
            " 99%|█████████▉| 24000/24220 [21:46:43<15:47,  4.31s/it]"
          ]
        },
        {
          "name": "stdout",
          "output_type": "stream",
          "text": [
            "{'loss': 0.2339, 'grad_norm': 7.399160385131836, 'learning_rate': 1.4406526047496816e-08, 'epoch': 4.95}\n"
          ]
        },
        {
          "name": "stderr",
          "output_type": "stream",
          "text": [
            "                                                        \n",
            "100%|██████████| 24220/24220 [22:16:18<00:00,  3.91s/it]"
          ]
        },
        {
          "name": "stdout",
          "output_type": "stream",
          "text": [
            "{'eval_loss': 1.0698752403259277, 'eval_runtime': 846.1707, 'eval_samples_per_second': 11.449, 'eval_steps_per_second': 1.431, 'epoch': 5.0}\n"
          ]
        },
        {
          "name": "stderr",
          "output_type": "stream",
          "text": [
            "100%|██████████| 24220/24220 [22:16:44<00:00,  3.31s/it]"
          ]
        },
        {
          "name": "stdout",
          "output_type": "stream",
          "text": [
            "{'train_runtime': 80204.4935, 'train_samples_per_second': 2.416, 'train_steps_per_second': 0.302, 'train_loss': 0.6424064959109469, 'epoch': 5.0}\n"
          ]
        },
        {
          "name": "stderr",
          "output_type": "stream",
          "text": [
            "\n"
          ]
        },
        {
          "data": {
            "text/plain": [
              "TrainOutput(global_step=24220, training_loss=0.6424064959109469, metrics={'train_runtime': 80204.4935, 'train_samples_per_second': 2.416, 'train_steps_per_second': 0.302, 'total_flos': 0.0, 'train_loss': 0.6424064959109469, 'epoch': 5.0})"
            ]
          },
          "execution_count": 17,
          "metadata": {},
          "output_type": "execute_result"
        }
      ],
      "source": [
        "trainer.train()\n"
      ]
    },
    {
      "cell_type": "markdown",
      "metadata": {
        "id": "TvvKxA4F4YkM"
      },
      "source": [
        "# best model i got using 19536 checkpoint i will retrain it for 3 epoch"
      ]
    },
    {
      "cell_type": "code",
      "execution_count": null,
      "metadata": {
        "id": "yzFFuAlo4YkN"
      },
      "outputs": [],
      "source": [
        "from sentence_transformers import SentenceTransformer\n",
        "checkpoint_path = \"C:\\\\Users\\\\Raviksh\\\\Downloads\\\\finetune_sentence_transformer\\\\s_tr\\\\checkpoint-19376\"\n",
        "model = SentenceTransformer(checkpoint_path)"
      ]
    },
    {
      "cell_type": "code",
      "execution_count": null,
      "metadata": {
        "id": "oGNALX3y4YkN"
      },
      "outputs": [],
      "source": [
        "loss = MultipleNegativesRankingLoss(model)\n"
      ]
    },
    {
      "cell_type": "code",
      "execution_count": null,
      "metadata": {
        "id": "W8SUFrne4YkN"
      },
      "outputs": [],
      "source": [
        "from transformers import get_cosine_schedule_with_warmup\n",
        "batch_size = 8\n",
        "num_epochs = 3\n",
        "num_training_steps = (len(train_dataset) // batch_size) * num_epochs  # Total steps\n",
        "num_warmup_steps = int(0.15 * num_training_steps)  # 10% warm-up (adjustable)\n"
      ]
    },
    {
      "cell_type": "code",
      "execution_count": null,
      "metadata": {
        "id": "ekfc71Wn4YkN"
      },
      "outputs": [],
      "source": [
        "from sentence_transformers import SentenceTransformer, InputExample, losses, SentenceTransformerTrainer, SentenceTransformerTrainingArguments\n",
        "from torch.optim import AdamW"
      ]
    },
    {
      "cell_type": "code",
      "execution_count": null,
      "metadata": {
        "id": "r71rs4uS4YkN",
        "outputId": "e4f3ed00-ae09-42d3-80e3-545c9f61af97"
      },
      "outputs": [
        {
          "name": "stderr",
          "output_type": "stream",
          "text": [
            "c:\\Users\\Raviksh\\miniconda3\\envs\\chat_arena\\lib\\site-packages\\transformers\\training_args.py:1545: FutureWarning: `evaluation_strategy` is deprecated and will be removed in version 4.46 of 🤗 Transformers. Use `eval_strategy` instead\n",
            "  warnings.warn(\n",
            "  3%|▎         | 500/14532 [27:31<12:24:36,  3.18s/it]"
          ]
        },
        {
          "name": "stdout",
          "output_type": "stream",
          "text": [
            "{'loss': 0.2896, 'grad_norm': 9.947051048278809, 'learning_rate': 4.589261128958238e-06, 'epoch': 0.1}\n"
          ]
        },
        {
          "name": "stderr",
          "output_type": "stream",
          "text": [
            "  7%|▋         | 1000/14532 [54:31<12:11:17,  3.24s/it]"
          ]
        },
        {
          "name": "stdout",
          "output_type": "stream",
          "text": [
            "{'loss': 0.2533, 'grad_norm': 6.576684474945068, 'learning_rate': 9.178522257916476e-06, 'epoch': 0.21}\n"
          ]
        },
        {
          "name": "stderr",
          "output_type": "stream",
          "text": [
            " 10%|█         | 1500/14532 [1:21:21<11:42:14,  3.23s/it]"
          ]
        },
        {
          "name": "stdout",
          "output_type": "stream",
          "text": [
            "{'loss': 0.2366, 'grad_norm': 15.67342472076416, 'learning_rate': 1.3767783386874713e-05, 'epoch': 0.31}\n"
          ]
        },
        {
          "name": "stderr",
          "output_type": "stream",
          "text": [
            " 14%|█▍        | 2000/14532 [1:48:23<11:30:36,  3.31s/it]"
          ]
        },
        {
          "name": "stdout",
          "output_type": "stream",
          "text": [
            "{'loss': 0.2243, 'grad_norm': 6.9420166015625, 'learning_rate': 1.8357044515832952e-05, 'epoch': 0.41}\n"
          ]
        },
        {
          "name": "stderr",
          "output_type": "stream",
          "text": [
            " 17%|█▋        | 2500/14532 [2:17:21<11:00:52,  3.30s/it]"
          ]
        },
        {
          "name": "stdout",
          "output_type": "stream",
          "text": [
            "{'loss': 0.2127, 'grad_norm': 5.346223831176758, 'learning_rate': 1.9966680032133108e-05, 'epoch': 0.52}\n"
          ]
        },
        {
          "name": "stderr",
          "output_type": "stream",
          "text": [
            " 21%|██        | 3000/14532 [2:44:16<10:35:32,  3.31s/it]"
          ]
        },
        {
          "name": "stdout",
          "output_type": "stream",
          "text": [
            "{'loss': 0.1991, 'grad_norm': 3.4953625202178955, 'learning_rate': 1.9782708350867e-05, 'epoch': 0.62}\n"
          ]
        },
        {
          "name": "stderr",
          "output_type": "stream",
          "text": [
            " 24%|██▍       | 3500/14532 [3:11:14<9:42:52,  3.17s/it] "
          ]
        },
        {
          "name": "stdout",
          "output_type": "stream",
          "text": [
            "{'loss': 0.2039, 'grad_norm': 9.505681037902832, 'learning_rate': 1.9440692168308896e-05, 'epoch': 0.72}\n"
          ]
        },
        {
          "name": "stderr",
          "output_type": "stream",
          "text": [
            " 28%|██▊       | 4000/14532 [3:38:07<9:19:03,  3.18s/it] "
          ]
        },
        {
          "name": "stdout",
          "output_type": "stream",
          "text": [
            "{'loss': 0.1949, 'grad_norm': 5.094330310821533, 'learning_rate': 1.8946156925376327e-05, 'epoch': 0.83}\n"
          ]
        },
        {
          "name": "stderr",
          "output_type": "stream",
          "text": [
            " 31%|███       | 4500/14532 [4:05:05<9:10:15,  3.29s/it]"
          ]
        },
        {
          "name": "stdout",
          "output_type": "stream",
          "text": [
            "{'loss': 0.2046, 'grad_norm': 11.371742248535156, 'learning_rate': 1.8307092083988976e-05, 'epoch': 0.93}\n"
          ]
        },
        {
          "name": "stderr",
          "output_type": "stream",
          "text": [
            "                                                        \n",
            " 33%|███▎      | 4844/14532 [4:26:57<8:19:19,  3.09s/it]"
          ]
        },
        {
          "name": "stdout",
          "output_type": "stream",
          "text": [
            "{'eval_loss': 1.0686678886413574, 'eval_runtime': 198.6288, 'eval_samples_per_second': 48.774, 'eval_steps_per_second': 6.097, 'epoch': 1.0}\n"
          ]
        },
        {
          "name": "stderr",
          "output_type": "stream",
          "text": [
            " 34%|███▍      | 5000/14532 [4:35:30<8:39:33,  3.27s/it]  "
          ]
        },
        {
          "name": "stdout",
          "output_type": "stream",
          "text": [
            "{'loss': 0.1726, 'grad_norm': 1.7706348896026611, 'learning_rate': 1.7533822053352127e-05, 'epoch': 1.03}\n"
          ]
        },
        {
          "name": "stderr",
          "output_type": "stream",
          "text": [
            " 38%|███▊      | 5500/14532 [5:03:04<8:12:59,  3.27s/it]"
          ]
        },
        {
          "name": "stdout",
          "output_type": "stream",
          "text": [
            "{'loss': 0.127, 'grad_norm': 17.961708068847656, 'learning_rate': 1.6638839394009634e-05, 'epoch': 1.14}\n"
          ]
        },
        {
          "name": "stderr",
          "output_type": "stream",
          "text": [
            " 41%|████▏     | 6000/14532 [5:30:17<7:48:22,  3.29s/it]"
          ]
        },
        {
          "name": "stdout",
          "output_type": "stream",
          "text": [
            "{'loss': 0.1497, 'grad_norm': 5.063749313354492, 'learning_rate': 1.5636602994337558e-05, 'epoch': 1.24}\n"
          ]
        },
        {
          "name": "stderr",
          "output_type": "stream",
          "text": [
            " 45%|████▍     | 6500/14532 [5:57:28<7:11:38,  3.22s/it]"
          ]
        },
        {
          "name": "stdout",
          "output_type": "stream",
          "text": [
            "{'loss': 0.2007, 'grad_norm': 3.986812114715576, 'learning_rate': 1.4543304480037266e-05, 'epoch': 1.34}\n"
          ]
        },
        {
          "name": "stderr",
          "output_type": "stream",
          "text": [
            " 48%|████▊     | 7000/14532 [6:24:17<6:47:32,  3.25s/it]"
          ]
        },
        {
          "name": "stdout",
          "output_type": "stream",
          "text": [
            "{'loss': 0.2104, 'grad_norm': 31.943180084228516, 'learning_rate': 1.3376606630398355e-05, 'epoch': 1.45}\n"
          ]
        },
        {
          "name": "stderr",
          "output_type": "stream",
          "text": [
            " 52%|█████▏    | 7500/14532 [6:51:06<6:23:40,  3.27s/it]"
          ]
        },
        {
          "name": "stdout",
          "output_type": "stream",
          "text": [
            "{'loss': 0.1567, 'grad_norm': 9.610870361328125, 'learning_rate': 1.215535802734633e-05, 'epoch': 1.55}\n"
          ]
        },
        {
          "name": "stderr",
          "output_type": "stream",
          "text": [
            " 55%|█████▌    | 8000/14532 [7:17:56<5:57:40,  3.29s/it]"
          ]
        },
        {
          "name": "stdout",
          "output_type": "stream",
          "text": [
            "{'loss': 0.1669, 'grad_norm': 17.893171310424805, 'learning_rate': 1.089928854726106e-05, 'epoch': 1.65}\n"
          ]
        },
        {
          "name": "stderr",
          "output_type": "stream",
          "text": [
            " 58%|█████▊    | 8500/14532 [7:44:47<5:28:43,  3.27s/it]"
          ]
        },
        {
          "name": "stdout",
          "output_type": "stream",
          "text": [
            "{'loss': 0.1203, 'grad_norm': 3.770479440689087, 'learning_rate': 9.628690615046587e-06, 'epoch': 1.75}\n"
          ]
        },
        {
          "name": "stderr",
          "output_type": "stream",
          "text": [
            " 62%|██████▏   | 9000/14532 [8:11:59<4:54:51,  3.20s/it]"
          ]
        },
        {
          "name": "stdout",
          "output_type": "stream",
          "text": [
            "{'loss': 0.1183, 'grad_norm': 24.373321533203125, 'learning_rate': 8.364091369950783e-06, 'epoch': 1.86}\n"
          ]
        },
        {
          "name": "stderr",
          "output_type": "stream",
          "text": [
            " 65%|██████▌   | 9500/14532 [8:39:28<4:32:54,  3.25s/it]"
          ]
        },
        {
          "name": "stdout",
          "output_type": "stream",
          "text": [
            "{'loss': 0.1076, 'grad_norm': 6.507205009460449, 'learning_rate': 7.125921039458415e-06, 'epoch': 1.96}\n"
          ]
        },
        {
          "name": "stderr",
          "output_type": "stream",
          "text": [
            "                                                        \n",
            " 67%|██████▋   | 9688/14532 [8:52:49<4:15:26,  3.16s/it]"
          ]
        },
        {
          "name": "stdout",
          "output_type": "stream",
          "text": [
            "{'eval_loss': 1.1973414421081543, 'eval_runtime': 197.1655, 'eval_samples_per_second': 49.136, 'eval_steps_per_second': 6.142, 'epoch': 2.0}\n"
          ]
        },
        {
          "name": "stderr",
          "output_type": "stream",
          "text": [
            " 69%|██████▉   | 10000/14532 [9:10:08<4:07:50,  3.28s/it]"
          ]
        },
        {
          "name": "stdout",
          "output_type": "stream",
          "text": [
            "{'loss': 0.0824, 'grad_norm': 15.091569900512695, 'learning_rate': 5.934182878841825e-06, 'epoch': 2.06}\n"
          ]
        },
        {
          "name": "stderr",
          "output_type": "stream",
          "text": [
            " 72%|███████▏  | 10500/14532 [9:37:21<3:35:34,  3.21s/it]"
          ]
        },
        {
          "name": "stdout",
          "output_type": "stream",
          "text": [
            "{'loss': 0.0753, 'grad_norm': 72.4637680053711, 'learning_rate': 4.808130008659242e-06, 'epoch': 2.17}\n"
          ]
        },
        {
          "name": "stderr",
          "output_type": "stream",
          "text": [
            " 76%|███████▌  | 11000/14532 [10:04:46<3:16:26,  3.34s/it]"
          ]
        },
        {
          "name": "stdout",
          "output_type": "stream",
          "text": [
            "{'loss': 0.0586, 'grad_norm': 14.270190238952637, 'learning_rate': 3.7659543710511724e-06, 'epoch': 2.27}\n"
          ]
        },
        {
          "name": "stderr",
          "output_type": "stream",
          "text": [
            " 79%|███████▉  | 11500/14532 [10:32:16<2:40:38,  3.18s/it]"
          ]
        },
        {
          "name": "stdout",
          "output_type": "stream",
          "text": [
            "{'loss': 0.0612, 'grad_norm': 2.437696695327759, 'learning_rate': 2.8244928298999953e-06, 'epoch': 2.37}\n"
          ]
        },
        {
          "name": "stderr",
          "output_type": "stream",
          "text": [
            " 83%|████████▎ | 12000/14532 [10:59:07<2:14:45,  3.19s/it]"
          ]
        },
        {
          "name": "stdout",
          "output_type": "stream",
          "text": [
            "{'loss': 0.0604, 'grad_norm': 7.160985946655273, 'learning_rate': 1.9989551629502833e-06, 'epoch': 2.48}\n"
          ]
        },
        {
          "name": "stderr",
          "output_type": "stream",
          "text": [
            " 86%|████████▌ | 12500/14532 [11:25:50<1:50:11,  3.25s/it]"
          ]
        },
        {
          "name": "stdout",
          "output_type": "stream",
          "text": [
            "{'loss': 0.073, 'grad_norm': 7.49570369720459, 'learning_rate': 1.3026783403120957e-06, 'epoch': 2.58}\n"
          ]
        },
        {
          "name": "stderr",
          "output_type": "stream",
          "text": [
            " 89%|████████▉ | 13000/14532 [11:52:34<1:22:09,  3.22s/it]"
          ]
        },
        {
          "name": "stdout",
          "output_type": "stream",
          "text": [
            "{'loss': 0.0502, 'grad_norm': 0.5728941559791565, 'learning_rate': 7.469110590995865e-07, 'epoch': 2.68}\n"
          ]
        },
        {
          "name": "stderr",
          "output_type": "stream",
          "text": [
            " 93%|█████████▎| 13500/14532 [12:19:23<54:31,  3.17s/it]  "
          ]
        },
        {
          "name": "stdout",
          "output_type": "stream",
          "text": [
            "{'loss': 0.046, 'grad_norm': 1.505934238433838, 'learning_rate': 3.4063201515477484e-07, 'epoch': 2.79}\n"
          ]
        },
        {
          "name": "stderr",
          "output_type": "stream",
          "text": [
            " 96%|█████████▋| 14000/14532 [12:46:08<27:56,  3.15s/it]"
          ]
        },
        {
          "name": "stdout",
          "output_type": "stream",
          "text": [
            "{'loss': 0.0426, 'grad_norm': 4.470372676849365, 'learning_rate': 9.040484776677183e-08, 'epoch': 2.89}\n"
          ]
        },
        {
          "name": "stderr",
          "output_type": "stream",
          "text": [
            "100%|█████████▉| 14500/14532 [13:12:36<01:41,  3.18s/it]"
          ]
        },
        {
          "name": "stdout",
          "output_type": "stream",
          "text": [
            "{'loss': 0.0563, 'grad_norm': 2.4138896465301514, 'learning_rate': 2.7210082640505284e-10, 'epoch': 2.99}\n"
          ]
        },
        {
          "name": "stderr",
          "output_type": "stream",
          "text": [
            "                                                        \n",
            "100%|██████████| 14532/14532 [13:17:42<00:00,  3.10s/it]"
          ]
        },
        {
          "name": "stdout",
          "output_type": "stream",
          "text": [
            "{'eval_loss': 1.2383840084075928, 'eval_runtime': 195.9146, 'eval_samples_per_second': 49.45, 'eval_steps_per_second': 6.181, 'epoch': 3.0}\n"
          ]
        },
        {
          "name": "stderr",
          "output_type": "stream",
          "text": [
            "100%|██████████| 14532/14532 [13:17:50<00:00,  3.29s/it]"
          ]
        },
        {
          "name": "stdout",
          "output_type": "stream",
          "text": [
            "{'train_runtime': 47870.8569, 'train_samples_per_second': 2.428, 'train_steps_per_second': 0.304, 'train_loss': 0.1430878928466963, 'epoch': 3.0}\n"
          ]
        },
        {
          "name": "stderr",
          "output_type": "stream",
          "text": [
            "\n"
          ]
        },
        {
          "data": {
            "text/plain": [
              "TrainOutput(global_step=14532, training_loss=0.1430878928466963, metrics={'train_runtime': 47870.8569, 'train_samples_per_second': 2.428, 'train_steps_per_second': 0.304, 'total_flos': 0.0, 'train_loss': 0.1430878928466963, 'epoch': 3.0})"
            ]
          },
          "execution_count": 12,
          "metadata": {},
          "output_type": "execute_result"
        }
      ],
      "source": [
        "\n",
        "\n",
        "# Load optimizer and scheduler states if saved\n",
        "optimizer = AdamW(model.parameters(), lr=2e-5)\n",
        "scheduler = get_cosine_schedule_with_warmup(\n",
        "    optimizer,\n",
        "    num_warmup_steps=num_warmup_steps,\n",
        "    num_training_steps=num_training_steps\n",
        ")\n",
        "\n",
        "# Update training arguments for retraining\n",
        "training_args = SentenceTransformerTrainingArguments(\n",
        "    output_dir=\"./results\",\n",
        "    num_train_epochs=3,                   # Number of additional epochs\n",
        "    per_device_train_batch_size=8,\n",
        "    logging_dir=\"./logs\",\n",
        "    evaluation_strategy=\"epoch\",\n",
        "    save_strategy=\"epoch\",\n",
        "    save_total_limit=3,\n",
        "    metric_for_best_model=\"eval_loss\",\n",
        "    greater_is_better=False,\n",
        "    load_best_model_at_end=True\n",
        ")\n",
        "\n",
        "# Resume training\n",
        "trainer = SentenceTransformerTrainer(\n",
        "    model=model,\n",
        "    args=training_args,\n",
        "    train_dataset=train_dataset,\n",
        "    eval_dataset=eval_dataset,\n",
        "    loss=loss,\n",
        "    optimizers=(optimizer, scheduler)  # Use saved or reinitialized optimizer/scheduler\n",
        ")\n",
        "\n",
        "trainer.train()\n"
      ]
    },
    {
      "cell_type": "code",
      "execution_count": null,
      "metadata": {
        "id": "hAP6tCft4YkO"
      },
      "outputs": [],
      "source": []
    },
    {
      "cell_type": "code",
      "execution_count": null,
      "metadata": {
        "id": "FwrPpEnj4YkO"
      },
      "outputs": [],
      "source": []
    },
    {
      "cell_type": "code",
      "execution_count": null,
      "metadata": {
        "execution": {
          "iopub.execute_input": "2024-12-17T12:12:26.674934Z",
          "iopub.status.busy": "2024-12-17T12:12:26.674564Z",
          "iopub.status.idle": "2024-12-17T12:13:16.720008Z",
          "shell.execute_reply": "2024-12-17T12:13:16.719089Z",
          "shell.execute_reply.started": "2024-12-17T12:12:26.674890Z"
        },
        "trusted": true,
        "colab": {
          "referenced_widgets": [
            "f7bab510a4244a029849b93324826fe9"
          ]
        },
        "id": "I3EoCTY94YkO",
        "outputId": "14b93858-7e1a-4d60-c82a-6b0768a4b6b8"
      },
      "outputs": [
        {
          "data": {
            "application/vnd.jupyter.widget-view+json": {
              "model_id": "f7bab510a4244a029849b93324826fe9",
              "version_major": 2,
              "version_minor": 0
            },
            "text/plain": [
              "model.safetensors:   0%|          | 0.00/711M [00:00<?, ?B/s]"
            ]
          },
          "metadata": {},
          "output_type": "display_data"
        },
        {
          "name": "stdout",
          "output_type": "stream",
          "text": [
            "Model uploaded to Hugging Face: https://huggingface.co/your-org-name/your-model-name\n"
          ]
        }
      ],
      "source": [
        "from sentence_transformers import SentenceTransformer\n",
        "from huggingface_hub import HfApi, Repository\n",
        "\n",
        "# Path to the saved model directory\n",
        "model_dir = \"/kaggle/working/results/checkpoint-7500/\"\n",
        "\n",
        "# Load the trained SentenceTransformer model\n",
        "model = SentenceTransformer(model_dir)\n",
        "\n",
        "# Push the model to Hugging Face\n",
        "model.push_to_hub(\"Raviksh/finetune_bge_large\",token='###########')\n",
        "\n",
        "print(f\"Model uploaded to Hugging Face: https://huggingface.co/your-org-name/your-model-name\")\n"
      ]
    },
    {
      "cell_type": "code",
      "execution_count": null,
      "metadata": {
        "execution": {
          "iopub.execute_input": "2024-12-17T12:06:06.001313Z",
          "iopub.status.busy": "2024-12-17T12:06:06.000646Z",
          "iopub.status.idle": "2024-12-17T12:06:06.006978Z",
          "shell.execute_reply": "2024-12-17T12:06:06.006171Z",
          "shell.execute_reply.started": "2024-12-17T12:06:06.001280Z"
        },
        "trusted": true,
        "id": "5bUHlBdJ4YkO",
        "outputId": "0aad8bc6-dd4c-4bbd-fe22-12b652756198"
      },
      "outputs": [
        {
          "name": "stdout",
          "output_type": "stream",
          "text": [
            "['checkpoint-7500', 'checkpoint-8000']\n"
          ]
        }
      ],
      "source": [
        "import os\n",
        "\n",
        "print(os.listdir('./results'))"
      ]
    },
    {
      "cell_type": "code",
      "execution_count": null,
      "metadata": {
        "execution": {
          "iopub.execute_input": "2024-12-17T12:07:28.373446Z",
          "iopub.status.busy": "2024-12-17T12:07:28.372794Z",
          "iopub.status.idle": "2024-12-17T12:07:28.379553Z",
          "shell.execute_reply": "2024-12-17T12:07:28.378741Z",
          "shell.execute_reply.started": "2024-12-17T12:07:28.373415Z"
        },
        "trusted": true,
        "id": "l2MpAWxc4YkP",
        "outputId": "530c5af7-061e-4ec0-cf7a-9b2d584d6dbc"
      },
      "outputs": [
        {
          "name": "stdout",
          "output_type": "stream",
          "text": [
            "['README.md', 'scheduler.pt', 'model.safetensors', 'training_args.bin', 'optimizer.pt', 'modules.json', 'tokenizer_config.json', '1_Pooling', 'config.json', 'special_tokens_map.json', 'trainer_state.json', 'tokenizer.json', 'rng_state.pth', 'config_sentence_transformers.json', 'sentence_bert_config.json', 'vocab.txt']\n"
          ]
        }
      ],
      "source": [
        "print(os.listdir('./results/checkpoint-7500'))\n"
      ]
    },
    {
      "cell_type": "code",
      "execution_count": null,
      "metadata": {
        "trusted": true,
        "id": "FnYVxiC_4YkP"
      },
      "outputs": [],
      "source": []
    }
  ],
  "metadata": {
    "accelerator": "GPU",
    "colab": {
      "gpuType": "T4",
      "provenance": []
    },
    "kaggle": {
      "accelerator": "gpu",
      "dataSources": [
        {
          "databundleVersionId": 10131489,
          "sourceId": 86946,
          "sourceType": "competition"
        },
        {
          "datasetId": 4581967,
          "sourceId": 10217983,
          "sourceType": "datasetVersion"
        },
        {
          "modelId": 193186,
          "modelInstanceId": 170877,
          "sourceId": 200303,
          "sourceType": "modelInstanceVersion"
        }
      ],
      "dockerImageVersionId": 30787,
      "isGpuEnabled": true,
      "isInternetEnabled": true,
      "language": "python",
      "sourceType": "notebook"
    },
    "kernelspec": {
      "display_name": "chat_arena",
      "language": "python",
      "name": "python3"
    },
    "language_info": {
      "codemirror_mode": {
        "name": "ipython",
        "version": 3
      },
      "file_extension": ".py",
      "mimetype": "text/x-python",
      "name": "python",
      "nbconvert_exporter": "python",
      "pygments_lexer": "ipython3",
      "version": "3.10.12"
    }
  },
  "nbformat": 4,
  "nbformat_minor": 0
}