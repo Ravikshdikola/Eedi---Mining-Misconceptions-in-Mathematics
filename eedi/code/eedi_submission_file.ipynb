{
  "cells": [
    {
      "cell_type": "code",
      "execution_count": null,
      "id": "fb200ff4",
      "metadata": {
        "execution": {
          "iopub.execute_input": "2024-10-25T14:38:50.609888Z",
          "iopub.status.busy": "2024-10-25T14:38:50.608968Z",
          "iopub.status.idle": "2024-10-25T14:38:53.279886Z",
          "shell.execute_reply": "2024-10-25T14:38:53.278721Z"
        },
        "papermill": {
          "duration": 2.697378,
          "end_time": "2024-10-25T14:38:53.282546",
          "exception": false,
          "start_time": "2024-10-25T14:38:50.585168",
          "status": "completed"
        },
        "tags": [],
        "id": "fb200ff4",
        "outputId": "5851a4f5-80ba-459c-d6c1-91521f2df07e"
      },
      "outputs": [
        {
          "name": "stdout",
          "output_type": "stream",
          "text": [
            "Processing /kaggle/input/hf-libraries/sentence-transformers/sentence_transformers-3.1.0-py3-none-any.whl\r\n",
            "Installing collected packages: sentence-transformers\r\n",
            "Successfully installed sentence-transformers-3.1.0\r\n"
          ]
        }
      ],
      "source": [
        "!pip install --no-deps --no-index /kaggle/input/hf-libraries/sentence-transformers/sentence_transformers-3.1.0-py3-none-any.whl"
      ]
    },
    {
      "cell_type": "code",
      "execution_count": null,
      "id": "d73dea20",
      "metadata": {
        "execution": {
          "iopub.execute_input": "2024-10-25T14:38:53.325608Z",
          "iopub.status.busy": "2024-10-25T14:38:53.325201Z",
          "iopub.status.idle": "2024-10-25T14:39:14.641605Z",
          "shell.execute_reply": "2024-10-25T14:39:14.640641Z"
        },
        "id": "d73dea20",
        "papermill": {
          "duration": 21.340856,
          "end_time": "2024-10-25T14:39:14.644204",
          "exception": false,
          "start_time": "2024-10-25T14:38:53.303348",
          "status": "completed"
        },
        "tags": [],
        "outputId": "357a5fb6-043c-45c1-8fc2-dd45e3a311c2"
      },
      "outputs": [
        {
          "name": "stderr",
          "output_type": "stream",
          "text": [
            "/opt/conda/lib/python3.10/site-packages/sentence_transformers/cross_encoder/CrossEncoder.py:13: TqdmExperimentalWarning: Using `tqdm.autonotebook.tqdm` in notebook mode. Use `tqdm.tqdm` instead to force console mode (e.g. in jupyter console)\n",
            "  from tqdm.autonotebook import tqdm, trange\n"
          ]
        }
      ],
      "source": [
        "import pandas as pd\n",
        "from sentence_transformers import SentenceTransformer, util"
      ]
    },
    {
      "cell_type": "code",
      "execution_count": null,
      "id": "126d1472",
      "metadata": {
        "execution": {
          "iopub.execute_input": "2024-10-25T14:39:14.690082Z",
          "iopub.status.busy": "2024-10-25T14:39:14.689100Z",
          "iopub.status.idle": "2024-10-25T14:39:14.708492Z",
          "shell.execute_reply": "2024-10-25T14:39:14.707438Z"
        },
        "id": "126d1472",
        "papermill": {
          "duration": 0.045541,
          "end_time": "2024-10-25T14:39:14.710906",
          "exception": false,
          "start_time": "2024-10-25T14:39:14.665365",
          "status": "completed"
        },
        "tags": []
      },
      "outputs": [],
      "source": [
        "import pandas as pd\n",
        "test_df = pd.read_csv('/kaggle/input/eedi-mining-misconceptions-in-mathematics/test.csv')"
      ]
    },
    {
      "cell_type": "code",
      "execution_count": null,
      "id": "da82bbd3",
      "metadata": {
        "execution": {
          "iopub.execute_input": "2024-10-25T14:39:14.753503Z",
          "iopub.status.busy": "2024-10-25T14:39:14.753130Z",
          "iopub.status.idle": "2024-10-25T14:39:14.758842Z",
          "shell.execute_reply": "2024-10-25T14:39:14.757875Z"
        },
        "id": "da82bbd3",
        "papermill": {
          "duration": 0.029269,
          "end_time": "2024-10-25T14:39:14.760872",
          "exception": false,
          "start_time": "2024-10-25T14:39:14.731603",
          "status": "completed"
        },
        "tags": []
      },
      "outputs": [],
      "source": [
        "def map_correct_answer(row):\n",
        "    if row['CorrectAnswer'] == 'A':\n",
        "        return row['AnswerAText']\n",
        "    elif row['CorrectAnswer'] == 'B':\n",
        "        return row['AnswerBText']\n",
        "    elif row['CorrectAnswer'] == 'C':\n",
        "        return row['AnswerCText']\n",
        "    elif row['CorrectAnswer'] == 'D':\n",
        "        return row['AnswerDText']"
      ]
    },
    {
      "cell_type": "code",
      "execution_count": null,
      "id": "d01db249",
      "metadata": {
        "execution": {
          "iopub.execute_input": "2024-10-25T14:39:14.805201Z",
          "iopub.status.busy": "2024-10-25T14:39:14.804374Z",
          "iopub.status.idle": "2024-10-25T14:39:14.814022Z",
          "shell.execute_reply": "2024-10-25T14:39:14.813043Z"
        },
        "id": "d01db249",
        "papermill": {
          "duration": 0.033285,
          "end_time": "2024-10-25T14:39:14.816099",
          "exception": false,
          "start_time": "2024-10-25T14:39:14.782814",
          "status": "completed"
        },
        "tags": []
      },
      "outputs": [],
      "source": [
        "test_df['Avalue'] = test_df.apply(map_correct_answer, axis=1)"
      ]
    },
    {
      "cell_type": "code",
      "execution_count": null,
      "id": "c24a0caf",
      "metadata": {
        "execution": {
          "iopub.execute_input": "2024-10-25T14:39:14.865315Z",
          "iopub.status.busy": "2024-10-25T14:39:14.864861Z",
          "iopub.status.idle": "2024-10-25T14:39:14.889428Z",
          "shell.execute_reply": "2024-10-25T14:39:14.888424Z"
        },
        "id": "c24a0caf",
        "papermill": {
          "duration": 0.055175,
          "end_time": "2024-10-25T14:39:14.892458",
          "exception": false,
          "start_time": "2024-10-25T14:39:14.837283",
          "status": "completed"
        },
        "tags": [],
        "outputId": "b9da9a85-2ff6-4504-e4f6-5d3072625bb8"
      },
      "outputs": [
        {
          "data": {
            "text/html": [
              "<div>\n",
              "<style scoped>\n",
              "    .dataframe tbody tr th:only-of-type {\n",
              "        vertical-align: middle;\n",
              "    }\n",
              "\n",
              "    .dataframe tbody tr th {\n",
              "        vertical-align: top;\n",
              "    }\n",
              "\n",
              "    .dataframe thead th {\n",
              "        text-align: right;\n",
              "    }\n",
              "</style>\n",
              "<table border=\"1\" class=\"dataframe\">\n",
              "  <thead>\n",
              "    <tr style=\"text-align: right;\">\n",
              "      <th></th>\n",
              "      <th>QuestionId</th>\n",
              "      <th>ConstructId</th>\n",
              "      <th>ConstructName</th>\n",
              "      <th>SubjectId</th>\n",
              "      <th>SubjectName</th>\n",
              "      <th>CorrectAnswer</th>\n",
              "      <th>QuestionText</th>\n",
              "      <th>AnswerAText</th>\n",
              "      <th>AnswerBText</th>\n",
              "      <th>AnswerCText</th>\n",
              "      <th>AnswerDText</th>\n",
              "      <th>Avalue</th>\n",
              "    </tr>\n",
              "  </thead>\n",
              "  <tbody>\n",
              "    <tr>\n",
              "      <th>0</th>\n",
              "      <td>1869</td>\n",
              "      <td>856</td>\n",
              "      <td>Use the order of operations to carry out calcu...</td>\n",
              "      <td>33</td>\n",
              "      <td>BIDMAS</td>\n",
              "      <td>A</td>\n",
              "      <td>\\[\\n3 \\times 2+4-5\\n\\]\\nWhere do the brackets ...</td>\n",
              "      <td>\\( 3 \\times(2+4)-5 \\)</td>\n",
              "      <td>\\( 3 \\times 2+(4-5) \\)</td>\n",
              "      <td>\\( 3 \\times(2+4-5) \\)</td>\n",
              "      <td>Does not need brackets</td>\n",
              "      <td>\\( 3 \\times(2+4)-5 \\)</td>\n",
              "    </tr>\n",
              "    <tr>\n",
              "      <th>1</th>\n",
              "      <td>1870</td>\n",
              "      <td>1612</td>\n",
              "      <td>Simplify an algebraic fraction by factorising ...</td>\n",
              "      <td>1077</td>\n",
              "      <td>Simplifying Algebraic Fractions</td>\n",
              "      <td>D</td>\n",
              "      <td>Simplify the following, if possible: \\( \\frac{...</td>\n",
              "      <td>\\( m+1 \\)</td>\n",
              "      <td>\\( m+2 \\)</td>\n",
              "      <td>\\( m-1 \\)</td>\n",
              "      <td>Does not simplify</td>\n",
              "      <td>Does not simplify</td>\n",
              "    </tr>\n",
              "    <tr>\n",
              "      <th>2</th>\n",
              "      <td>1871</td>\n",
              "      <td>2774</td>\n",
              "      <td>Calculate the range from a list of data</td>\n",
              "      <td>339</td>\n",
              "      <td>Range and Interquartile Range from a List of Data</td>\n",
              "      <td>B</td>\n",
              "      <td>Tom and Katie are discussing the \\( 5 \\) plant...</td>\n",
              "      <td>Only\\nTom</td>\n",
              "      <td>Only\\nKatie</td>\n",
              "      <td>Both Tom and Katie</td>\n",
              "      <td>Neither is correct</td>\n",
              "      <td>Only\\nKatie</td>\n",
              "    </tr>\n",
              "  </tbody>\n",
              "</table>\n",
              "</div>"
            ],
            "text/plain": [
              "   QuestionId  ConstructId                                      ConstructName  \\\n",
              "0        1869          856  Use the order of operations to carry out calcu...   \n",
              "1        1870         1612  Simplify an algebraic fraction by factorising ...   \n",
              "2        1871         2774            Calculate the range from a list of data   \n",
              "\n",
              "   SubjectId                                        SubjectName CorrectAnswer  \\\n",
              "0         33                                             BIDMAS             A   \n",
              "1       1077                    Simplifying Algebraic Fractions             D   \n",
              "2        339  Range and Interquartile Range from a List of Data             B   \n",
              "\n",
              "                                        QuestionText            AnswerAText  \\\n",
              "0  \\[\\n3 \\times 2+4-5\\n\\]\\nWhere do the brackets ...  \\( 3 \\times(2+4)-5 \\)   \n",
              "1  Simplify the following, if possible: \\( \\frac{...              \\( m+1 \\)   \n",
              "2  Tom and Katie are discussing the \\( 5 \\) plant...              Only\\nTom   \n",
              "\n",
              "              AnswerBText            AnswerCText             AnswerDText  \\\n",
              "0  \\( 3 \\times 2+(4-5) \\)  \\( 3 \\times(2+4-5) \\)  Does not need brackets   \n",
              "1               \\( m+2 \\)              \\( m-1 \\)       Does not simplify   \n",
              "2             Only\\nKatie     Both Tom and Katie      Neither is correct   \n",
              "\n",
              "                  Avalue  \n",
              "0  \\( 3 \\times(2+4)-5 \\)  \n",
              "1      Does not simplify  \n",
              "2            Only\\nKatie  "
            ]
          },
          "execution_count": 6,
          "metadata": {},
          "output_type": "execute_result"
        }
      ],
      "source": [
        "test_df"
      ]
    },
    {
      "cell_type": "code",
      "execution_count": null,
      "id": "b2b9c691",
      "metadata": {
        "execution": {
          "iopub.execute_input": "2024-10-25T14:39:14.941659Z",
          "iopub.status.busy": "2024-10-25T14:39:14.941284Z",
          "iopub.status.idle": "2024-10-25T14:39:14.957729Z",
          "shell.execute_reply": "2024-10-25T14:39:14.956888Z"
        },
        "id": "b2b9c691",
        "papermill": {
          "duration": 0.040502,
          "end_time": "2024-10-25T14:39:14.959715",
          "exception": false,
          "start_time": "2024-10-25T14:39:14.919213",
          "status": "completed"
        },
        "tags": []
      },
      "outputs": [],
      "source": [
        "def wide_to_long(df: pd.DataFrame) -> pd.DataFrame:\n",
        "    # Fix the typo by adding a comma between \"CorrectAnswer\" and \"Avalue\"\n",
        "    df = pd.melt(\n",
        "        df[\n",
        "            [\n",
        "                \"QuestionId\",\n",
        "                \"QuestionText\",\n",
        "                \"SubjectName\",\n",
        "                \"ConstructName\",\n",
        "                \"CorrectAnswer\",  # Comma added here\n",
        "                \"Avalue\",\n",
        "                \"AnswerAText\",\n",
        "                \"AnswerBText\",\n",
        "                \"AnswerCText\",\n",
        "                \"AnswerDText\"\n",
        "            ]\n",
        "        ],\n",
        "        id_vars    = [\"QuestionId\", \"QuestionText\", \"CorrectAnswer\",\"SubjectName\", \"Avalue\", \"ConstructName\"],\n",
        "        var_name   = 'Answer',\n",
        "        value_name = 'value'\n",
        "    )\n",
        "\n",
        "    return df\n",
        "\n",
        "test_long = wide_to_long(test_df)\n"
      ]
    },
    {
      "cell_type": "code",
      "execution_count": null,
      "id": "5b79e54c",
      "metadata": {
        "execution": {
          "iopub.execute_input": "2024-10-25T14:39:15.003571Z",
          "iopub.status.busy": "2024-10-25T14:39:15.003182Z",
          "iopub.status.idle": "2024-10-25T14:39:15.018445Z",
          "shell.execute_reply": "2024-10-25T14:39:15.017539Z"
        },
        "papermill": {
          "duration": 0.039616,
          "end_time": "2024-10-25T14:39:15.020467",
          "exception": false,
          "start_time": "2024-10-25T14:39:14.980851",
          "status": "completed"
        },
        "tags": [],
        "id": "5b79e54c",
        "outputId": "8bfdf97c-0a1b-4cc4-9d27-64b1d5fdcf6f"
      },
      "outputs": [
        {
          "data": {
            "text/html": [
              "<div>\n",
              "<style scoped>\n",
              "    .dataframe tbody tr th:only-of-type {\n",
              "        vertical-align: middle;\n",
              "    }\n",
              "\n",
              "    .dataframe tbody tr th {\n",
              "        vertical-align: top;\n",
              "    }\n",
              "\n",
              "    .dataframe thead th {\n",
              "        text-align: right;\n",
              "    }\n",
              "</style>\n",
              "<table border=\"1\" class=\"dataframe\">\n",
              "  <thead>\n",
              "    <tr style=\"text-align: right;\">\n",
              "      <th></th>\n",
              "      <th>QuestionId</th>\n",
              "      <th>QuestionText</th>\n",
              "      <th>CorrectAnswer</th>\n",
              "      <th>SubjectName</th>\n",
              "      <th>Avalue</th>\n",
              "      <th>ConstructName</th>\n",
              "      <th>Answer</th>\n",
              "      <th>value</th>\n",
              "    </tr>\n",
              "  </thead>\n",
              "  <tbody>\n",
              "    <tr>\n",
              "      <th>0</th>\n",
              "      <td>1869</td>\n",
              "      <td>\\[\\n3 \\times 2+4-5\\n\\]\\nWhere do the brackets ...</td>\n",
              "      <td>A</td>\n",
              "      <td>BIDMAS</td>\n",
              "      <td>\\( 3 \\times(2+4)-5 \\)</td>\n",
              "      <td>Use the order of operations to carry out calcu...</td>\n",
              "      <td>AnswerAText</td>\n",
              "      <td>\\( 3 \\times(2+4)-5 \\)</td>\n",
              "    </tr>\n",
              "    <tr>\n",
              "      <th>1</th>\n",
              "      <td>1870</td>\n",
              "      <td>Simplify the following, if possible: \\( \\frac{...</td>\n",
              "      <td>D</td>\n",
              "      <td>Simplifying Algebraic Fractions</td>\n",
              "      <td>Does not simplify</td>\n",
              "      <td>Simplify an algebraic fraction by factorising ...</td>\n",
              "      <td>AnswerAText</td>\n",
              "      <td>\\( m+1 \\)</td>\n",
              "    </tr>\n",
              "    <tr>\n",
              "      <th>2</th>\n",
              "      <td>1871</td>\n",
              "      <td>Tom and Katie are discussing the \\( 5 \\) plant...</td>\n",
              "      <td>B</td>\n",
              "      <td>Range and Interquartile Range from a List of Data</td>\n",
              "      <td>Only\\nKatie</td>\n",
              "      <td>Calculate the range from a list of data</td>\n",
              "      <td>AnswerAText</td>\n",
              "      <td>Only\\nTom</td>\n",
              "    </tr>\n",
              "    <tr>\n",
              "      <th>3</th>\n",
              "      <td>1869</td>\n",
              "      <td>\\[\\n3 \\times 2+4-5\\n\\]\\nWhere do the brackets ...</td>\n",
              "      <td>A</td>\n",
              "      <td>BIDMAS</td>\n",
              "      <td>\\( 3 \\times(2+4)-5 \\)</td>\n",
              "      <td>Use the order of operations to carry out calcu...</td>\n",
              "      <td>AnswerBText</td>\n",
              "      <td>\\( 3 \\times 2+(4-5) \\)</td>\n",
              "    </tr>\n",
              "    <tr>\n",
              "      <th>4</th>\n",
              "      <td>1870</td>\n",
              "      <td>Simplify the following, if possible: \\( \\frac{...</td>\n",
              "      <td>D</td>\n",
              "      <td>Simplifying Algebraic Fractions</td>\n",
              "      <td>Does not simplify</td>\n",
              "      <td>Simplify an algebraic fraction by factorising ...</td>\n",
              "      <td>AnswerBText</td>\n",
              "      <td>\\( m+2 \\)</td>\n",
              "    </tr>\n",
              "    <tr>\n",
              "      <th>5</th>\n",
              "      <td>1871</td>\n",
              "      <td>Tom and Katie are discussing the \\( 5 \\) plant...</td>\n",
              "      <td>B</td>\n",
              "      <td>Range and Interquartile Range from a List of Data</td>\n",
              "      <td>Only\\nKatie</td>\n",
              "      <td>Calculate the range from a list of data</td>\n",
              "      <td>AnswerBText</td>\n",
              "      <td>Only\\nKatie</td>\n",
              "    </tr>\n",
              "    <tr>\n",
              "      <th>6</th>\n",
              "      <td>1869</td>\n",
              "      <td>\\[\\n3 \\times 2+4-5\\n\\]\\nWhere do the brackets ...</td>\n",
              "      <td>A</td>\n",
              "      <td>BIDMAS</td>\n",
              "      <td>\\( 3 \\times(2+4)-5 \\)</td>\n",
              "      <td>Use the order of operations to carry out calcu...</td>\n",
              "      <td>AnswerCText</td>\n",
              "      <td>\\( 3 \\times(2+4-5) \\)</td>\n",
              "    </tr>\n",
              "    <tr>\n",
              "      <th>7</th>\n",
              "      <td>1870</td>\n",
              "      <td>Simplify the following, if possible: \\( \\frac{...</td>\n",
              "      <td>D</td>\n",
              "      <td>Simplifying Algebraic Fractions</td>\n",
              "      <td>Does not simplify</td>\n",
              "      <td>Simplify an algebraic fraction by factorising ...</td>\n",
              "      <td>AnswerCText</td>\n",
              "      <td>\\( m-1 \\)</td>\n",
              "    </tr>\n",
              "    <tr>\n",
              "      <th>8</th>\n",
              "      <td>1871</td>\n",
              "      <td>Tom and Katie are discussing the \\( 5 \\) plant...</td>\n",
              "      <td>B</td>\n",
              "      <td>Range and Interquartile Range from a List of Data</td>\n",
              "      <td>Only\\nKatie</td>\n",
              "      <td>Calculate the range from a list of data</td>\n",
              "      <td>AnswerCText</td>\n",
              "      <td>Both Tom and Katie</td>\n",
              "    </tr>\n",
              "    <tr>\n",
              "      <th>9</th>\n",
              "      <td>1869</td>\n",
              "      <td>\\[\\n3 \\times 2+4-5\\n\\]\\nWhere do the brackets ...</td>\n",
              "      <td>A</td>\n",
              "      <td>BIDMAS</td>\n",
              "      <td>\\( 3 \\times(2+4)-5 \\)</td>\n",
              "      <td>Use the order of operations to carry out calcu...</td>\n",
              "      <td>AnswerDText</td>\n",
              "      <td>Does not need brackets</td>\n",
              "    </tr>\n",
              "    <tr>\n",
              "      <th>10</th>\n",
              "      <td>1870</td>\n",
              "      <td>Simplify the following, if possible: \\( \\frac{...</td>\n",
              "      <td>D</td>\n",
              "      <td>Simplifying Algebraic Fractions</td>\n",
              "      <td>Does not simplify</td>\n",
              "      <td>Simplify an algebraic fraction by factorising ...</td>\n",
              "      <td>AnswerDText</td>\n",
              "      <td>Does not simplify</td>\n",
              "    </tr>\n",
              "    <tr>\n",
              "      <th>11</th>\n",
              "      <td>1871</td>\n",
              "      <td>Tom and Katie are discussing the \\( 5 \\) plant...</td>\n",
              "      <td>B</td>\n",
              "      <td>Range and Interquartile Range from a List of Data</td>\n",
              "      <td>Only\\nKatie</td>\n",
              "      <td>Calculate the range from a list of data</td>\n",
              "      <td>AnswerDText</td>\n",
              "      <td>Neither is correct</td>\n",
              "    </tr>\n",
              "  </tbody>\n",
              "</table>\n",
              "</div>"
            ],
            "text/plain": [
              "    QuestionId                                       QuestionText  \\\n",
              "0         1869  \\[\\n3 \\times 2+4-5\\n\\]\\nWhere do the brackets ...   \n",
              "1         1870  Simplify the following, if possible: \\( \\frac{...   \n",
              "2         1871  Tom and Katie are discussing the \\( 5 \\) plant...   \n",
              "3         1869  \\[\\n3 \\times 2+4-5\\n\\]\\nWhere do the brackets ...   \n",
              "4         1870  Simplify the following, if possible: \\( \\frac{...   \n",
              "5         1871  Tom and Katie are discussing the \\( 5 \\) plant...   \n",
              "6         1869  \\[\\n3 \\times 2+4-5\\n\\]\\nWhere do the brackets ...   \n",
              "7         1870  Simplify the following, if possible: \\( \\frac{...   \n",
              "8         1871  Tom and Katie are discussing the \\( 5 \\) plant...   \n",
              "9         1869  \\[\\n3 \\times 2+4-5\\n\\]\\nWhere do the brackets ...   \n",
              "10        1870  Simplify the following, if possible: \\( \\frac{...   \n",
              "11        1871  Tom and Katie are discussing the \\( 5 \\) plant...   \n",
              "\n",
              "   CorrectAnswer                                        SubjectName  \\\n",
              "0              A                                             BIDMAS   \n",
              "1              D                    Simplifying Algebraic Fractions   \n",
              "2              B  Range and Interquartile Range from a List of Data   \n",
              "3              A                                             BIDMAS   \n",
              "4              D                    Simplifying Algebraic Fractions   \n",
              "5              B  Range and Interquartile Range from a List of Data   \n",
              "6              A                                             BIDMAS   \n",
              "7              D                    Simplifying Algebraic Fractions   \n",
              "8              B  Range and Interquartile Range from a List of Data   \n",
              "9              A                                             BIDMAS   \n",
              "10             D                    Simplifying Algebraic Fractions   \n",
              "11             B  Range and Interquartile Range from a List of Data   \n",
              "\n",
              "                   Avalue                                      ConstructName  \\\n",
              "0   \\( 3 \\times(2+4)-5 \\)  Use the order of operations to carry out calcu...   \n",
              "1       Does not simplify  Simplify an algebraic fraction by factorising ...   \n",
              "2             Only\\nKatie            Calculate the range from a list of data   \n",
              "3   \\( 3 \\times(2+4)-5 \\)  Use the order of operations to carry out calcu...   \n",
              "4       Does not simplify  Simplify an algebraic fraction by factorising ...   \n",
              "5             Only\\nKatie            Calculate the range from a list of data   \n",
              "6   \\( 3 \\times(2+4)-5 \\)  Use the order of operations to carry out calcu...   \n",
              "7       Does not simplify  Simplify an algebraic fraction by factorising ...   \n",
              "8             Only\\nKatie            Calculate the range from a list of data   \n",
              "9   \\( 3 \\times(2+4)-5 \\)  Use the order of operations to carry out calcu...   \n",
              "10      Does not simplify  Simplify an algebraic fraction by factorising ...   \n",
              "11            Only\\nKatie            Calculate the range from a list of data   \n",
              "\n",
              "         Answer                   value  \n",
              "0   AnswerAText   \\( 3 \\times(2+4)-5 \\)  \n",
              "1   AnswerAText               \\( m+1 \\)  \n",
              "2   AnswerAText               Only\\nTom  \n",
              "3   AnswerBText  \\( 3 \\times 2+(4-5) \\)  \n",
              "4   AnswerBText               \\( m+2 \\)  \n",
              "5   AnswerBText             Only\\nKatie  \n",
              "6   AnswerCText   \\( 3 \\times(2+4-5) \\)  \n",
              "7   AnswerCText               \\( m-1 \\)  \n",
              "8   AnswerCText      Both Tom and Katie  \n",
              "9   AnswerDText  Does not need brackets  \n",
              "10  AnswerDText       Does not simplify  \n",
              "11  AnswerDText      Neither is correct  "
            ]
          },
          "execution_count": 8,
          "metadata": {},
          "output_type": "execute_result"
        }
      ],
      "source": [
        "test_long"
      ]
    },
    {
      "cell_type": "code",
      "execution_count": null,
      "id": "04c0f002",
      "metadata": {
        "execution": {
          "iopub.execute_input": "2024-10-25T14:39:15.065127Z",
          "iopub.status.busy": "2024-10-25T14:39:15.064297Z",
          "iopub.status.idle": "2024-10-25T14:39:15.083914Z",
          "shell.execute_reply": "2024-10-25T14:39:15.082946Z"
        },
        "id": "04c0f002",
        "outputId": "7dfd1c83-1a42-4544-b6b5-16cb504a2b6e",
        "papermill": {
          "duration": 0.044013,
          "end_time": "2024-10-25T14:39:15.086001",
          "exception": false,
          "start_time": "2024-10-25T14:39:15.041988",
          "status": "completed"
        },
        "tags": []
      },
      "outputs": [
        {
          "data": {
            "text/html": [
              "<div>\n",
              "<style scoped>\n",
              "    .dataframe tbody tr th:only-of-type {\n",
              "        vertical-align: middle;\n",
              "    }\n",
              "\n",
              "    .dataframe tbody tr th {\n",
              "        vertical-align: top;\n",
              "    }\n",
              "\n",
              "    .dataframe thead th {\n",
              "        text-align: right;\n",
              "    }\n",
              "</style>\n",
              "<table border=\"1\" class=\"dataframe\">\n",
              "  <thead>\n",
              "    <tr style=\"text-align: right;\">\n",
              "      <th></th>\n",
              "      <th>QuestionId</th>\n",
              "      <th>QuestionText</th>\n",
              "      <th>CorrectAnswer</th>\n",
              "      <th>SubjectName</th>\n",
              "      <th>Avalue</th>\n",
              "      <th>ConstructName</th>\n",
              "      <th>Answer</th>\n",
              "      <th>value</th>\n",
              "    </tr>\n",
              "  </thead>\n",
              "  <tbody>\n",
              "    <tr>\n",
              "      <th>0</th>\n",
              "      <td>1869</td>\n",
              "      <td>\\[\\n3 \\times 2+4-5\\n\\]\\nWhere do the brackets ...</td>\n",
              "      <td>A</td>\n",
              "      <td>BIDMAS</td>\n",
              "      <td>\\( 3 \\times(2+4)-5 \\)</td>\n",
              "      <td>Use the order of operations to carry out calcu...</td>\n",
              "      <td>AnswerAText</td>\n",
              "      <td>\\( 3 \\times(2+4)-5 \\)</td>\n",
              "    </tr>\n",
              "    <tr>\n",
              "      <th>1</th>\n",
              "      <td>1869</td>\n",
              "      <td>\\[\\n3 \\times 2+4-5\\n\\]\\nWhere do the brackets ...</td>\n",
              "      <td>A</td>\n",
              "      <td>BIDMAS</td>\n",
              "      <td>\\( 3 \\times(2+4)-5 \\)</td>\n",
              "      <td>Use the order of operations to carry out calcu...</td>\n",
              "      <td>AnswerBText</td>\n",
              "      <td>\\( 3 \\times 2+(4-5) \\)</td>\n",
              "    </tr>\n",
              "    <tr>\n",
              "      <th>2</th>\n",
              "      <td>1869</td>\n",
              "      <td>\\[\\n3 \\times 2+4-5\\n\\]\\nWhere do the brackets ...</td>\n",
              "      <td>A</td>\n",
              "      <td>BIDMAS</td>\n",
              "      <td>\\( 3 \\times(2+4)-5 \\)</td>\n",
              "      <td>Use the order of operations to carry out calcu...</td>\n",
              "      <td>AnswerCText</td>\n",
              "      <td>\\( 3 \\times(2+4-5) \\)</td>\n",
              "    </tr>\n",
              "    <tr>\n",
              "      <th>3</th>\n",
              "      <td>1869</td>\n",
              "      <td>\\[\\n3 \\times 2+4-5\\n\\]\\nWhere do the brackets ...</td>\n",
              "      <td>A</td>\n",
              "      <td>BIDMAS</td>\n",
              "      <td>\\( 3 \\times(2+4)-5 \\)</td>\n",
              "      <td>Use the order of operations to carry out calcu...</td>\n",
              "      <td>AnswerDText</td>\n",
              "      <td>Does not need brackets</td>\n",
              "    </tr>\n",
              "    <tr>\n",
              "      <th>4</th>\n",
              "      <td>1870</td>\n",
              "      <td>Simplify the following, if possible: \\( \\frac{...</td>\n",
              "      <td>D</td>\n",
              "      <td>Simplifying Algebraic Fractions</td>\n",
              "      <td>Does not simplify</td>\n",
              "      <td>Simplify an algebraic fraction by factorising ...</td>\n",
              "      <td>AnswerAText</td>\n",
              "      <td>\\( m+1 \\)</td>\n",
              "    </tr>\n",
              "    <tr>\n",
              "      <th>5</th>\n",
              "      <td>1870</td>\n",
              "      <td>Simplify the following, if possible: \\( \\frac{...</td>\n",
              "      <td>D</td>\n",
              "      <td>Simplifying Algebraic Fractions</td>\n",
              "      <td>Does not simplify</td>\n",
              "      <td>Simplify an algebraic fraction by factorising ...</td>\n",
              "      <td>AnswerBText</td>\n",
              "      <td>\\( m+2 \\)</td>\n",
              "    </tr>\n",
              "    <tr>\n",
              "      <th>6</th>\n",
              "      <td>1870</td>\n",
              "      <td>Simplify the following, if possible: \\( \\frac{...</td>\n",
              "      <td>D</td>\n",
              "      <td>Simplifying Algebraic Fractions</td>\n",
              "      <td>Does not simplify</td>\n",
              "      <td>Simplify an algebraic fraction by factorising ...</td>\n",
              "      <td>AnswerCText</td>\n",
              "      <td>\\( m-1 \\)</td>\n",
              "    </tr>\n",
              "    <tr>\n",
              "      <th>7</th>\n",
              "      <td>1870</td>\n",
              "      <td>Simplify the following, if possible: \\( \\frac{...</td>\n",
              "      <td>D</td>\n",
              "      <td>Simplifying Algebraic Fractions</td>\n",
              "      <td>Does not simplify</td>\n",
              "      <td>Simplify an algebraic fraction by factorising ...</td>\n",
              "      <td>AnswerDText</td>\n",
              "      <td>Does not simplify</td>\n",
              "    </tr>\n",
              "    <tr>\n",
              "      <th>8</th>\n",
              "      <td>1871</td>\n",
              "      <td>Tom and Katie are discussing the \\( 5 \\) plant...</td>\n",
              "      <td>B</td>\n",
              "      <td>Range and Interquartile Range from a List of Data</td>\n",
              "      <td>Only\\nKatie</td>\n",
              "      <td>Calculate the range from a list of data</td>\n",
              "      <td>AnswerAText</td>\n",
              "      <td>Only\\nTom</td>\n",
              "    </tr>\n",
              "    <tr>\n",
              "      <th>9</th>\n",
              "      <td>1871</td>\n",
              "      <td>Tom and Katie are discussing the \\( 5 \\) plant...</td>\n",
              "      <td>B</td>\n",
              "      <td>Range and Interquartile Range from a List of Data</td>\n",
              "      <td>Only\\nKatie</td>\n",
              "      <td>Calculate the range from a list of data</td>\n",
              "      <td>AnswerBText</td>\n",
              "      <td>Only\\nKatie</td>\n",
              "    </tr>\n",
              "    <tr>\n",
              "      <th>10</th>\n",
              "      <td>1871</td>\n",
              "      <td>Tom and Katie are discussing the \\( 5 \\) plant...</td>\n",
              "      <td>B</td>\n",
              "      <td>Range and Interquartile Range from a List of Data</td>\n",
              "      <td>Only\\nKatie</td>\n",
              "      <td>Calculate the range from a list of data</td>\n",
              "      <td>AnswerCText</td>\n",
              "      <td>Both Tom and Katie</td>\n",
              "    </tr>\n",
              "    <tr>\n",
              "      <th>11</th>\n",
              "      <td>1871</td>\n",
              "      <td>Tom and Katie are discussing the \\( 5 \\) plant...</td>\n",
              "      <td>B</td>\n",
              "      <td>Range and Interquartile Range from a List of Data</td>\n",
              "      <td>Only\\nKatie</td>\n",
              "      <td>Calculate the range from a list of data</td>\n",
              "      <td>AnswerDText</td>\n",
              "      <td>Neither is correct</td>\n",
              "    </tr>\n",
              "  </tbody>\n",
              "</table>\n",
              "</div>"
            ],
            "text/plain": [
              "    QuestionId                                       QuestionText  \\\n",
              "0         1869  \\[\\n3 \\times 2+4-5\\n\\]\\nWhere do the brackets ...   \n",
              "1         1869  \\[\\n3 \\times 2+4-5\\n\\]\\nWhere do the brackets ...   \n",
              "2         1869  \\[\\n3 \\times 2+4-5\\n\\]\\nWhere do the brackets ...   \n",
              "3         1869  \\[\\n3 \\times 2+4-5\\n\\]\\nWhere do the brackets ...   \n",
              "4         1870  Simplify the following, if possible: \\( \\frac{...   \n",
              "5         1870  Simplify the following, if possible: \\( \\frac{...   \n",
              "6         1870  Simplify the following, if possible: \\( \\frac{...   \n",
              "7         1870  Simplify the following, if possible: \\( \\frac{...   \n",
              "8         1871  Tom and Katie are discussing the \\( 5 \\) plant...   \n",
              "9         1871  Tom and Katie are discussing the \\( 5 \\) plant...   \n",
              "10        1871  Tom and Katie are discussing the \\( 5 \\) plant...   \n",
              "11        1871  Tom and Katie are discussing the \\( 5 \\) plant...   \n",
              "\n",
              "   CorrectAnswer                                        SubjectName  \\\n",
              "0              A                                             BIDMAS   \n",
              "1              A                                             BIDMAS   \n",
              "2              A                                             BIDMAS   \n",
              "3              A                                             BIDMAS   \n",
              "4              D                    Simplifying Algebraic Fractions   \n",
              "5              D                    Simplifying Algebraic Fractions   \n",
              "6              D                    Simplifying Algebraic Fractions   \n",
              "7              D                    Simplifying Algebraic Fractions   \n",
              "8              B  Range and Interquartile Range from a List of Data   \n",
              "9              B  Range and Interquartile Range from a List of Data   \n",
              "10             B  Range and Interquartile Range from a List of Data   \n",
              "11             B  Range and Interquartile Range from a List of Data   \n",
              "\n",
              "                   Avalue                                      ConstructName  \\\n",
              "0   \\( 3 \\times(2+4)-5 \\)  Use the order of operations to carry out calcu...   \n",
              "1   \\( 3 \\times(2+4)-5 \\)  Use the order of operations to carry out calcu...   \n",
              "2   \\( 3 \\times(2+4)-5 \\)  Use the order of operations to carry out calcu...   \n",
              "3   \\( 3 \\times(2+4)-5 \\)  Use the order of operations to carry out calcu...   \n",
              "4       Does not simplify  Simplify an algebraic fraction by factorising ...   \n",
              "5       Does not simplify  Simplify an algebraic fraction by factorising ...   \n",
              "6       Does not simplify  Simplify an algebraic fraction by factorising ...   \n",
              "7       Does not simplify  Simplify an algebraic fraction by factorising ...   \n",
              "8             Only\\nKatie            Calculate the range from a list of data   \n",
              "9             Only\\nKatie            Calculate the range from a list of data   \n",
              "10            Only\\nKatie            Calculate the range from a list of data   \n",
              "11            Only\\nKatie            Calculate the range from a list of data   \n",
              "\n",
              "         Answer                   value  \n",
              "0   AnswerAText   \\( 3 \\times(2+4)-5 \\)  \n",
              "1   AnswerBText  \\( 3 \\times 2+(4-5) \\)  \n",
              "2   AnswerCText   \\( 3 \\times(2+4-5) \\)  \n",
              "3   AnswerDText  Does not need brackets  \n",
              "4   AnswerAText               \\( m+1 \\)  \n",
              "5   AnswerBText               \\( m+2 \\)  \n",
              "6   AnswerCText               \\( m-1 \\)  \n",
              "7   AnswerDText       Does not simplify  \n",
              "8   AnswerAText               Only\\nTom  \n",
              "9   AnswerBText             Only\\nKatie  \n",
              "10  AnswerCText      Both Tom and Katie  \n",
              "11  AnswerDText      Neither is correct  "
            ]
          },
          "execution_count": 9,
          "metadata": {},
          "output_type": "execute_result"
        }
      ],
      "source": [
        "test_long = test_long.sort_values([\"QuestionId\", \"Answer\"]).reset_index(drop=True)\n",
        "test_long"
      ]
    },
    {
      "cell_type": "code",
      "execution_count": null,
      "id": "25f11ad6",
      "metadata": {
        "execution": {
          "iopub.execute_input": "2024-10-25T14:39:15.130786Z",
          "iopub.status.busy": "2024-10-25T14:39:15.130068Z",
          "iopub.status.idle": "2024-10-25T14:39:15.139063Z",
          "shell.execute_reply": "2024-10-25T14:39:15.137986Z"
        },
        "id": "25f11ad6",
        "papermill": {
          "duration": 0.034197,
          "end_time": "2024-10-25T14:39:15.141507",
          "exception": false,
          "start_time": "2024-10-25T14:39:15.107310",
          "status": "completed"
        },
        "tags": []
      },
      "outputs": [],
      "source": [
        "test_long[\"Answer_alphabet\"] = test_long[\"Answer\"].str.extract(r'Answer([A-Z])Text$')\n",
        "test_long[\"QuestionId_Answer\"] = test_long[\"QuestionId\"].astype(\"str\") + \"_\" + test_long[\"Answer_alphabet\"]\n",
        "test_long = test_long[test_long[\"CorrectAnswer\"] != test_long[\"Answer_alphabet\"]]"
      ]
    },
    {
      "cell_type": "code",
      "execution_count": null,
      "id": "70ef5bd7",
      "metadata": {
        "execution": {
          "iopub.execute_input": "2024-10-25T14:39:15.185915Z",
          "iopub.status.busy": "2024-10-25T14:39:15.185522Z",
          "iopub.status.idle": "2024-10-25T14:39:15.192079Z",
          "shell.execute_reply": "2024-10-25T14:39:15.191177Z"
        },
        "id": "70ef5bd7",
        "outputId": "9988dfe6-fdcd-49ac-9808-5b90bf2d9c41",
        "papermill": {
          "duration": 0.031014,
          "end_time": "2024-10-25T14:39:15.194007",
          "exception": false,
          "start_time": "2024-10-25T14:39:15.162993",
          "status": "completed"
        },
        "tags": []
      },
      "outputs": [
        {
          "data": {
            "text/plain": [
              "Index(['QuestionId', 'QuestionText', 'CorrectAnswer', 'SubjectName', 'Avalue',\n",
              "       'ConstructName', 'Answer', 'value', 'Answer_alphabet',\n",
              "       'QuestionId_Answer'],\n",
              "      dtype='object')"
            ]
          },
          "execution_count": 11,
          "metadata": {},
          "output_type": "execute_result"
        }
      ],
      "source": [
        "test_long.columns"
      ]
    },
    {
      "cell_type": "code",
      "execution_count": null,
      "id": "42e0cfd0",
      "metadata": {
        "execution": {
          "iopub.execute_input": "2024-10-25T14:39:15.238592Z",
          "iopub.status.busy": "2024-10-25T14:39:15.238173Z",
          "iopub.status.idle": "2024-10-25T14:39:17.281373Z",
          "shell.execute_reply": "2024-10-25T14:39:17.280186Z"
        },
        "id": "42e0cfd0",
        "papermill": {
          "duration": 2.068506,
          "end_time": "2024-10-25T14:39:17.283974",
          "exception": false,
          "start_time": "2024-10-25T14:39:15.215468",
          "status": "completed"
        },
        "tags": [],
        "outputId": "0a06795e-fc32-4b03-bded-f5b244cd898c"
      },
      "outputs": [
        {
          "name": "stderr",
          "output_type": "stream",
          "text": [
            "/opt/conda/lib/python3.10/pty.py:89: RuntimeWarning: os.fork() was called. os.fork() is incompatible with multithreaded code, and JAX is multithreaded, so this will likely lead to a deadlock.\n",
            "  pid, fd = os.forkpty()\n"
          ]
        },
        {
          "name": "stdout",
          "output_type": "stream",
          "text": [
            "Processing /kaggle/input/hf-libraries/sentence-transformers/sentence_transformers-3.1.0-py3-none-any.whl\r\n",
            "sentence-transformers is already installed with the same version as the provided wheel. Use --force-reinstall to force an installation of the wheel.\r\n"
          ]
        }
      ],
      "source": [
        "!pip install --no-deps --no-index /kaggle/input/hf-libraries/sentence-transformers/sentence_transformers-3.1.0-py3-none-any.whl"
      ]
    },
    {
      "cell_type": "code",
      "execution_count": null,
      "id": "01bfc89c",
      "metadata": {
        "execution": {
          "iopub.execute_input": "2024-10-25T14:39:17.329410Z",
          "iopub.status.busy": "2024-10-25T14:39:17.329021Z",
          "iopub.status.idle": "2024-10-25T14:39:28.965003Z",
          "shell.execute_reply": "2024-10-25T14:39:28.964121Z"
        },
        "papermill": {
          "duration": 11.661623,
          "end_time": "2024-10-25T14:39:28.967408",
          "exception": false,
          "start_time": "2024-10-25T14:39:17.305785",
          "status": "completed"
        },
        "tags": [],
        "id": "01bfc89c"
      },
      "outputs": [],
      "source": [
        "model = SentenceTransformer('/kaggle/input/finetune_bge_large/pytorch/default/1/trained_model')"
      ]
    },
    {
      "cell_type": "code",
      "execution_count": null,
      "id": "c6474fdf",
      "metadata": {
        "execution": {
          "iopub.execute_input": "2024-10-25T14:39:29.013467Z",
          "iopub.status.busy": "2024-10-25T14:39:29.012597Z",
          "iopub.status.idle": "2024-10-25T14:39:33.278777Z",
          "shell.execute_reply": "2024-10-25T14:39:33.277917Z"
        },
        "papermill": {
          "duration": 4.291686,
          "end_time": "2024-10-25T14:39:33.281166",
          "exception": false,
          "start_time": "2024-10-25T14:39:28.989480",
          "status": "completed"
        },
        "tags": [],
        "id": "c6474fdf"
      },
      "outputs": [],
      "source": [
        "model1 = SentenceTransformer('/kaggle/input/all_mpnet/pytorch/default/1/content/trained_model')"
      ]
    },
    {
      "cell_type": "code",
      "execution_count": null,
      "id": "48cfc241",
      "metadata": {
        "execution": {
          "iopub.execute_input": "2024-10-25T14:39:33.326982Z",
          "iopub.status.busy": "2024-10-25T14:39:33.326599Z",
          "iopub.status.idle": "2024-10-25T14:39:33.333204Z",
          "shell.execute_reply": "2024-10-25T14:39:33.332277Z"
        },
        "papermill": {
          "duration": 0.031822,
          "end_time": "2024-10-25T14:39:33.335272",
          "exception": false,
          "start_time": "2024-10-25T14:39:33.303450",
          "status": "completed"
        },
        "tags": [],
        "id": "48cfc241"
      },
      "outputs": [],
      "source": [
        "def batch_encode_texts(texts, model, model1, batch_size=32):\n",
        "    embeddings = []\n",
        "    embeddings1 = []\n",
        "    for i in range(0, len(texts), batch_size):\n",
        "        batch = texts[i:i+batch_size]\n",
        "        embeddings.append(model.encode(batch, convert_to_tensor=True))\n",
        "        embeddings1.append(model1.encode(batch, convert_to_tensor=True))\n",
        "    return embeddings, embeddings1"
      ]
    },
    {
      "cell_type": "code",
      "execution_count": null,
      "id": "d4121d6b",
      "metadata": {
        "papermill": {
          "duration": 0.021738,
          "end_time": "2024-10-25T14:39:33.378844",
          "exception": false,
          "start_time": "2024-10-25T14:39:33.357106",
          "status": "completed"
        },
        "tags": [],
        "id": "d4121d6b"
      },
      "outputs": [],
      "source": []
    },
    {
      "cell_type": "code",
      "execution_count": null,
      "id": "53ff0bfd",
      "metadata": {
        "execution": {
          "iopub.execute_input": "2024-10-25T14:39:33.423555Z",
          "iopub.status.busy": "2024-10-25T14:39:33.423206Z",
          "iopub.status.idle": "2024-10-25T14:39:33.427912Z",
          "shell.execute_reply": "2024-10-25T14:39:33.426974Z"
        },
        "papermill": {
          "duration": 0.029582,
          "end_time": "2024-10-25T14:39:33.430026",
          "exception": false,
          "start_time": "2024-10-25T14:39:33.400444",
          "status": "completed"
        },
        "tags": [],
        "id": "53ff0bfd"
      },
      "outputs": [],
      "source": [
        "def precompute_embeddings(misconceptions, model):\n",
        "    return model.encode(misconceptions, convert_to_tensor=True)"
      ]
    },
    {
      "cell_type": "code",
      "execution_count": null,
      "id": "58daecde",
      "metadata": {
        "execution": {
          "iopub.execute_input": "2024-10-25T14:39:33.475839Z",
          "iopub.status.busy": "2024-10-25T14:39:33.474965Z",
          "iopub.status.idle": "2024-10-25T14:39:33.479739Z",
          "shell.execute_reply": "2024-10-25T14:39:33.478805Z"
        },
        "papermill": {
          "duration": 0.030055,
          "end_time": "2024-10-25T14:39:33.481934",
          "exception": false,
          "start_time": "2024-10-25T14:39:33.451879",
          "status": "completed"
        },
        "tags": [],
        "id": "58daecde"
      },
      "outputs": [],
      "source": [
        "def precompute_embeddings1(misconceptions, model1):\n",
        "    return model1.encode(misconceptions, convert_to_tensor=True)"
      ]
    },
    {
      "cell_type": "code",
      "execution_count": null,
      "id": "839e7a81",
      "metadata": {
        "execution": {
          "iopub.execute_input": "2024-10-25T14:39:33.527524Z",
          "iopub.status.busy": "2024-10-25T14:39:33.526877Z",
          "iopub.status.idle": "2024-10-25T14:39:33.532376Z",
          "shell.execute_reply": "2024-10-25T14:39:33.531481Z"
        },
        "papermill": {
          "duration": 0.030428,
          "end_time": "2024-10-25T14:39:33.534259",
          "exception": false,
          "start_time": "2024-10-25T14:39:33.503831",
          "status": "completed"
        },
        "tags": [],
        "id": "839e7a81"
      },
      "outputs": [],
      "source": [
        "def common_word_overlap(text1, text2):\n",
        "    set1 = set(text1.lower().split())\n",
        "    set2 = set(text2.lower().split())\n",
        "    common_words = set1 & set2  # Intersection\n",
        "    total_words = set1 | set2   # Union\n",
        "    return len(common_words) / len(total_words) if total_words else 0"
      ]
    },
    {
      "cell_type": "code",
      "execution_count": null,
      "id": "58927b85",
      "metadata": {
        "execution": {
          "iopub.execute_input": "2024-10-25T14:39:33.579033Z",
          "iopub.status.busy": "2024-10-25T14:39:33.578631Z",
          "iopub.status.idle": "2024-10-25T14:39:33.583755Z",
          "shell.execute_reply": "2024-10-25T14:39:33.582832Z"
        },
        "papermill": {
          "duration": 0.029924,
          "end_time": "2024-10-25T14:39:33.585770",
          "exception": false,
          "start_time": "2024-10-25T14:39:33.555846",
          "status": "completed"
        },
        "tags": [],
        "id": "58927b85"
      },
      "outputs": [],
      "source": [
        "test_long = test_long.copy()"
      ]
    },
    {
      "cell_type": "code",
      "execution_count": null,
      "id": "fd954aa5",
      "metadata": {
        "execution": {
          "iopub.execute_input": "2024-10-25T14:39:33.631037Z",
          "iopub.status.busy": "2024-10-25T14:39:33.630324Z",
          "iopub.status.idle": "2024-10-25T14:39:33.637585Z",
          "shell.execute_reply": "2024-10-25T14:39:33.636661Z"
        },
        "papermill": {
          "duration": 0.032121,
          "end_time": "2024-10-25T14:39:33.639525",
          "exception": false,
          "start_time": "2024-10-25T14:39:33.607404",
          "status": "completed"
        },
        "tags": [],
        "id": "fd954aa5"
      },
      "outputs": [],
      "source": [
        "test_long.loc[:, 'complete_text'] = (\n",
        "    test_long['ConstructName'] + ' ' +\n",
        "    test_long['ConstructName'] + ' ' +\n",
        "    test_long['QuestionText'] + ' ' +\n",
        "    test_long['Avalue'] + ' ' +\n",
        "    test_long['value']\n",
        ")"
      ]
    },
    {
      "cell_type": "code",
      "execution_count": null,
      "id": "77118182",
      "metadata": {
        "execution": {
          "iopub.execute_input": "2024-10-25T14:39:33.684527Z",
          "iopub.status.busy": "2024-10-25T14:39:33.684156Z",
          "iopub.status.idle": "2024-10-25T14:39:33.688774Z",
          "shell.execute_reply": "2024-10-25T14:39:33.687844Z"
        },
        "papermill": {
          "duration": 0.02957,
          "end_time": "2024-10-25T14:39:33.690768",
          "exception": false,
          "start_time": "2024-10-25T14:39:33.661198",
          "status": "completed"
        },
        "tags": [],
        "id": "77118182"
      },
      "outputs": [],
      "source": [
        "text_list = test_long.complete_text.to_list()"
      ]
    },
    {
      "cell_type": "code",
      "execution_count": null,
      "id": "8f10fa45",
      "metadata": {
        "execution": {
          "iopub.execute_input": "2024-10-25T14:39:33.736446Z",
          "iopub.status.busy": "2024-10-25T14:39:33.735799Z",
          "iopub.status.idle": "2024-10-25T14:39:33.752758Z",
          "shell.execute_reply": "2024-10-25T14:39:33.751995Z"
        },
        "papermill": {
          "duration": 0.042477,
          "end_time": "2024-10-25T14:39:33.754800",
          "exception": false,
          "start_time": "2024-10-25T14:39:33.712323",
          "status": "completed"
        },
        "tags": [],
        "id": "8f10fa45"
      },
      "outputs": [],
      "source": [
        "misconception_mapping = pd.read_csv('/kaggle/input/eedi-mining-misconceptions-in-mathematics/misconception_mapping.csv')"
      ]
    },
    {
      "cell_type": "code",
      "execution_count": null,
      "id": "c55489e6",
      "metadata": {
        "execution": {
          "iopub.execute_input": "2024-10-25T14:39:33.799922Z",
          "iopub.status.busy": "2024-10-25T14:39:33.799439Z",
          "iopub.status.idle": "2024-10-25T14:39:33.804046Z",
          "shell.execute_reply": "2024-10-25T14:39:33.803132Z"
        },
        "papermill": {
          "duration": 0.029365,
          "end_time": "2024-10-25T14:39:33.806018",
          "exception": false,
          "start_time": "2024-10-25T14:39:33.776653",
          "status": "completed"
        },
        "tags": [],
        "id": "c55489e6"
      },
      "outputs": [],
      "source": [
        "misconceptions = misconception_mapping.MisconceptionName.to_list()"
      ]
    },
    {
      "cell_type": "code",
      "execution_count": null,
      "id": "7dbcecb6",
      "metadata": {
        "execution": {
          "iopub.execute_input": "2024-10-25T14:39:33.851871Z",
          "iopub.status.busy": "2024-10-25T14:39:33.850867Z",
          "iopub.status.idle": "2024-10-25T14:39:40.611323Z",
          "shell.execute_reply": "2024-10-25T14:39:40.610423Z"
        },
        "papermill": {
          "duration": 6.786441,
          "end_time": "2024-10-25T14:39:40.614050",
          "exception": false,
          "start_time": "2024-10-25T14:39:33.827609",
          "status": "completed"
        },
        "tags": [],
        "colab": {
          "referenced_widgets": [
            "c7eae33ea9be45e98719b9a5ffde72b3"
          ]
        },
        "id": "7dbcecb6",
        "outputId": "a27ce68b-51a0-434d-f16e-9b79535c5221"
      },
      "outputs": [
        {
          "data": {
            "application/vnd.jupyter.widget-view+json": {
              "model_id": "c7eae33ea9be45e98719b9a5ffde72b3",
              "version_major": 2,
              "version_minor": 0
            },
            "text/plain": [
              "Batches:   0%|          | 0/81 [00:00<?, ?it/s]"
            ]
          },
          "metadata": {},
          "output_type": "display_data"
        }
      ],
      "source": [
        "misconception_embeddings = precompute_embeddings(misconceptions, model)"
      ]
    },
    {
      "cell_type": "code",
      "execution_count": null,
      "id": "991fb6d8",
      "metadata": {
        "execution": {
          "iopub.execute_input": "2024-10-25T14:39:40.659802Z",
          "iopub.status.busy": "2024-10-25T14:39:40.659371Z",
          "iopub.status.idle": "2024-10-25T14:39:40.665780Z",
          "shell.execute_reply": "2024-10-25T14:39:40.664830Z"
        },
        "papermill": {
          "duration": 0.031512,
          "end_time": "2024-10-25T14:39:40.667774",
          "exception": false,
          "start_time": "2024-10-25T14:39:40.636262",
          "status": "completed"
        },
        "tags": [],
        "id": "991fb6d8",
        "outputId": "4cdca677-6948-4551-8c7c-3bac588378fb"
      },
      "outputs": [
        {
          "data": {
            "text/plain": [
              "torch.Size([2587, 1024])"
            ]
          },
          "execution_count": 25,
          "metadata": {},
          "output_type": "execute_result"
        }
      ],
      "source": [
        "misconception_embeddings.shape"
      ]
    },
    {
      "cell_type": "code",
      "execution_count": null,
      "id": "bb6089fc",
      "metadata": {
        "execution": {
          "iopub.execute_input": "2024-10-25T14:39:40.713657Z",
          "iopub.status.busy": "2024-10-25T14:39:40.712941Z",
          "iopub.status.idle": "2024-10-25T14:39:42.777555Z",
          "shell.execute_reply": "2024-10-25T14:39:42.776807Z"
        },
        "papermill": {
          "duration": 2.089776,
          "end_time": "2024-10-25T14:39:42.779576",
          "exception": false,
          "start_time": "2024-10-25T14:39:40.689800",
          "status": "completed"
        },
        "tags": [],
        "colab": {
          "referenced_widgets": [
            "c7d12433bd934b5a9453425740898dbf"
          ]
        },
        "id": "bb6089fc",
        "outputId": "91133be3-537d-4533-e579-4e34cb5ebca5"
      },
      "outputs": [
        {
          "data": {
            "application/vnd.jupyter.widget-view+json": {
              "model_id": "c7d12433bd934b5a9453425740898dbf",
              "version_major": 2,
              "version_minor": 0
            },
            "text/plain": [
              "Batches:   0%|          | 0/81 [00:00<?, ?it/s]"
            ]
          },
          "metadata": {},
          "output_type": "display_data"
        }
      ],
      "source": [
        "misconception_embeddings1 = precompute_embeddings1(misconceptions, model1)"
      ]
    },
    {
      "cell_type": "code",
      "execution_count": null,
      "id": "c9516a69",
      "metadata": {
        "execution": {
          "iopub.execute_input": "2024-10-25T14:39:42.826881Z",
          "iopub.status.busy": "2024-10-25T14:39:42.825981Z",
          "iopub.status.idle": "2024-10-25T14:39:42.832256Z",
          "shell.execute_reply": "2024-10-25T14:39:42.831362Z"
        },
        "papermill": {
          "duration": 0.031546,
          "end_time": "2024-10-25T14:39:42.834210",
          "exception": false,
          "start_time": "2024-10-25T14:39:42.802664",
          "status": "completed"
        },
        "tags": [],
        "id": "c9516a69",
        "outputId": "8bf12922-8237-468c-98df-f3c016d56ce0"
      },
      "outputs": [
        {
          "data": {
            "text/plain": [
              "torch.Size([2587, 768])"
            ]
          },
          "execution_count": 27,
          "metadata": {},
          "output_type": "execute_result"
        }
      ],
      "source": [
        "misconception_embeddings1.shape"
      ]
    },
    {
      "cell_type": "code",
      "execution_count": null,
      "id": "d0de1639",
      "metadata": {
        "execution": {
          "iopub.execute_input": "2024-10-25T14:39:42.880807Z",
          "iopub.status.busy": "2024-10-25T14:39:42.880143Z",
          "iopub.status.idle": "2024-10-25T14:39:42.890364Z",
          "shell.execute_reply": "2024-10-25T14:39:42.889379Z"
        },
        "papermill": {
          "duration": 0.036261,
          "end_time": "2024-10-25T14:39:42.892749",
          "exception": false,
          "start_time": "2024-10-25T14:39:42.856488",
          "status": "completed"
        },
        "tags": [],
        "id": "d0de1639",
        "outputId": "fb3dc492-1826-403f-d628-ff60bb8174b6"
      },
      "outputs": [
        {
          "data": {
            "text/html": [
              "<div>\n",
              "<style scoped>\n",
              "    .dataframe tbody tr th:only-of-type {\n",
              "        vertical-align: middle;\n",
              "    }\n",
              "\n",
              "    .dataframe tbody tr th {\n",
              "        vertical-align: top;\n",
              "    }\n",
              "\n",
              "    .dataframe thead th {\n",
              "        text-align: right;\n",
              "    }\n",
              "</style>\n",
              "<table border=\"1\" class=\"dataframe\">\n",
              "  <thead>\n",
              "    <tr style=\"text-align: right;\">\n",
              "      <th></th>\n",
              "      <th>MisconceptionId</th>\n",
              "      <th>MisconceptionName</th>\n",
              "    </tr>\n",
              "  </thead>\n",
              "  <tbody>\n",
              "    <tr>\n",
              "      <th>0</th>\n",
              "      <td>0</td>\n",
              "      <td>Does not know that angles in a triangle sum to...</td>\n",
              "    </tr>\n",
              "  </tbody>\n",
              "</table>\n",
              "</div>"
            ],
            "text/plain": [
              "   MisconceptionId                                  MisconceptionName\n",
              "0                0  Does not know that angles in a triangle sum to..."
            ]
          },
          "execution_count": 28,
          "metadata": {},
          "output_type": "execute_result"
        }
      ],
      "source": [
        "misconception_mapping.head(1)"
      ]
    },
    {
      "cell_type": "code",
      "execution_count": null,
      "id": "709fadfb",
      "metadata": {
        "execution": {
          "iopub.execute_input": "2024-10-25T14:39:42.940017Z",
          "iopub.status.busy": "2024-10-25T14:39:42.939359Z",
          "iopub.status.idle": "2024-10-25T14:39:42.950785Z",
          "shell.execute_reply": "2024-10-25T14:39:42.949859Z"
        },
        "papermill": {
          "duration": 0.037219,
          "end_time": "2024-10-25T14:39:42.952851",
          "exception": false,
          "start_time": "2024-10-25T14:39:42.915632",
          "status": "completed"
        },
        "tags": [],
        "id": "709fadfb"
      },
      "outputs": [],
      "source": [
        "def compute_all_similarities(text_batch, text_batch1, misconception_embeddings, misconception_embeddings1, misconception_mapping, text_list, top_k=25):\n",
        "    # Cosine similarities (efficient matrix multiplication)\n",
        "    cosine_similarities = util.cos_sim(text_batch, misconception_embeddings)\n",
        "    cosine_similarities1 = util.cos_sim(text_batch1, misconception_embeddings1)\n",
        "\n",
        "    # List to store final scores for top misconceptions\n",
        "    top_k_indices_list = []\n",
        "\n",
        "    # Convert the text_batch tensors back to original text for common word overlap calculation\n",
        "    # Assuming the text_df is accessible globally or passed as a parameter\n",
        "    original_texts = text_list  # List of original texts\n",
        "\n",
        "    for i in range(len(text_batch)):\n",
        "        # For each text, calculate semantic similarity using util.semantic_search\n",
        "        semantic_similarities = util.semantic_search(text_batch[i].unsqueeze(0), misconception_embeddings, top_k=len(misconception_mapping))[0]\n",
        "\n",
        "        semantic_similarities1 = util.semantic_search(text_batch1[i].unsqueeze(0), misconception_embeddings1, top_k=len(misconception_mapping))[0]\n",
        "\n",
        "        combined_scores = []\n",
        "\n",
        "        # Iterate over misconceptions using their IDs and names\n",
        "        for j, (misconception_id, misconception) in enumerate(zip(misconception_mapping['MisconceptionId'], misconception_mapping['MisconceptionName'])):\n",
        "            # Common word overlap score\n",
        "            # Access the original text directly from the list\n",
        "            common_word_score = common_word_overlap(original_texts[i], misconception)\n",
        "\n",
        "            # Cosine similarity score\n",
        "            cosine_similarity_score = cosine_similarities[i][j].item()\n",
        "            cosine_similarity_score1 = cosine_similarities1[i][j].item()\n",
        "\n",
        "            # Semantic similarity score (from semantic_search)\n",
        "            semantic_similarity_score = semantic_similarities[j]['score']\n",
        "            semantic_similarity_score1 = semantic_similarities1[j]['score']\n",
        "\n",
        "            # Combine all three metrics\n",
        "            combined_score = (0.04*common_word_score + 0.42*cosine_similarity_score + 0.03*semantic_similarity_score + 0.48*cosine_similarity_score1 + 0.03*semantic_similarity_score1) / 5\n",
        "\n",
        "            # Store combined scores for this text-misconception pair\n",
        "            combined_scores.append((misconception_id, combined_score))\n",
        "\n",
        "        # Sort misconceptions by the combined score in descending order\n",
        "        sorted_combined_scores = sorted(combined_scores, key=lambda x: x[1], reverse=True)\n",
        "\n",
        "        # Get the top_k misconceptions (top 25 by default)\n",
        "        top_k_indices = [misconception_id for misconception_id, score in sorted_combined_scores[:top_k]]\n",
        "\n",
        "        top_k_indices_list.append(top_k_indices)\n",
        "\n",
        "    return top_k_indices_list\n"
      ]
    },
    {
      "cell_type": "code",
      "execution_count": null,
      "id": "8145f6bc",
      "metadata": {
        "execution": {
          "iopub.execute_input": "2024-10-25T14:39:43.000138Z",
          "iopub.status.busy": "2024-10-25T14:39:42.999273Z",
          "iopub.status.idle": "2024-10-25T14:39:43.255321Z",
          "shell.execute_reply": "2024-10-25T14:39:43.254355Z"
        },
        "papermill": {
          "duration": 0.282175,
          "end_time": "2024-10-25T14:39:43.257568",
          "exception": false,
          "start_time": "2024-10-25T14:39:42.975393",
          "status": "completed"
        },
        "tags": [],
        "colab": {
          "referenced_widgets": [
            "7913fa0ce892459997b5a31e26fe58e9",
            "d2a182e839b64b849c3b5e9f1c1d7eaf",
            "5c5835d9947145a795998c3540520642",
            "0bf6709986d147ae951f9db0c36de2bc"
          ]
        },
        "id": "8145f6bc",
        "outputId": "0c7712a3-d080-42c0-8480-b7634c8b5170"
      },
      "outputs": [
        {
          "data": {
            "application/vnd.jupyter.widget-view+json": {
              "model_id": "7913fa0ce892459997b5a31e26fe58e9",
              "version_major": 2,
              "version_minor": 0
            },
            "text/plain": [
              "Batches:   0%|          | 0/1 [00:00<?, ?it/s]"
            ]
          },
          "metadata": {},
          "output_type": "display_data"
        },
        {
          "data": {
            "application/vnd.jupyter.widget-view+json": {
              "model_id": "d2a182e839b64b849c3b5e9f1c1d7eaf",
              "version_major": 2,
              "version_minor": 0
            },
            "text/plain": [
              "Batches:   0%|          | 0/1 [00:00<?, ?it/s]"
            ]
          },
          "metadata": {},
          "output_type": "display_data"
        },
        {
          "data": {
            "application/vnd.jupyter.widget-view+json": {
              "model_id": "5c5835d9947145a795998c3540520642",
              "version_major": 2,
              "version_minor": 0
            },
            "text/plain": [
              "Batches:   0%|          | 0/1 [00:00<?, ?it/s]"
            ]
          },
          "metadata": {},
          "output_type": "display_data"
        },
        {
          "data": {
            "application/vnd.jupyter.widget-view+json": {
              "model_id": "0bf6709986d147ae951f9db0c36de2bc",
              "version_major": 2,
              "version_minor": 0
            },
            "text/plain": [
              "Batches:   0%|          | 0/1 [00:00<?, ?it/s]"
            ]
          },
          "metadata": {},
          "output_type": "display_data"
        }
      ],
      "source": [
        "batch_size = 8\n",
        "text_embeddings_batches_m,text_embeddings_batches_m1 = batch_encode_texts(test_long['complete_text'].tolist(), model, model1, batch_size=batch_size)\n",
        "\n"
      ]
    },
    {
      "cell_type": "code",
      "execution_count": null,
      "id": "e68f1b7a",
      "metadata": {
        "execution": {
          "iopub.execute_input": "2024-10-25T14:39:43.308762Z",
          "iopub.status.busy": "2024-10-25T14:39:43.307961Z",
          "iopub.status.idle": "2024-10-25T14:39:43.314692Z",
          "shell.execute_reply": "2024-10-25T14:39:43.313716Z"
        },
        "papermill": {
          "duration": 0.033516,
          "end_time": "2024-10-25T14:39:43.316751",
          "exception": false,
          "start_time": "2024-10-25T14:39:43.283235",
          "status": "completed"
        },
        "tags": [],
        "id": "e68f1b7a",
        "outputId": "e6ff3bb2-e598-499a-8a8c-249434fd1d0c"
      },
      "outputs": [
        {
          "data": {
            "text/plain": [
              "torch.Size([8, 1024])"
            ]
          },
          "execution_count": 31,
          "metadata": {},
          "output_type": "execute_result"
        }
      ],
      "source": [
        "text_embeddings_batches_m[0].shape"
      ]
    },
    {
      "cell_type": "code",
      "execution_count": null,
      "id": "ce643a51",
      "metadata": {
        "execution": {
          "iopub.execute_input": "2024-10-25T14:39:43.366438Z",
          "iopub.status.busy": "2024-10-25T14:39:43.365509Z",
          "iopub.status.idle": "2024-10-25T14:39:43.372320Z",
          "shell.execute_reply": "2024-10-25T14:39:43.371302Z"
        },
        "papermill": {
          "duration": 0.033597,
          "end_time": "2024-10-25T14:39:43.374284",
          "exception": false,
          "start_time": "2024-10-25T14:39:43.340687",
          "status": "completed"
        },
        "tags": [],
        "id": "ce643a51",
        "outputId": "c799aa95-469a-46a6-c7b4-f14716947e64"
      },
      "outputs": [
        {
          "data": {
            "text/plain": [
              "torch.Size([8, 768])"
            ]
          },
          "execution_count": 32,
          "metadata": {},
          "output_type": "execute_result"
        }
      ],
      "source": [
        "text_embeddings_batches_m1[0].shape"
      ]
    },
    {
      "cell_type": "code",
      "execution_count": null,
      "id": "3150a2cf",
      "metadata": {
        "execution": {
          "iopub.execute_input": "2024-10-25T14:39:43.423545Z",
          "iopub.status.busy": "2024-10-25T14:39:43.422635Z",
          "iopub.status.idle": "2024-10-25T14:39:45.208562Z",
          "shell.execute_reply": "2024-10-25T14:39:45.207733Z"
        },
        "papermill": {
          "duration": 1.813156,
          "end_time": "2024-10-25T14:39:45.210930",
          "exception": false,
          "start_time": "2024-10-25T14:39:43.397774",
          "status": "completed"
        },
        "tags": [],
        "id": "3150a2cf"
      },
      "outputs": [],
      "source": [
        "text_list = test_long['complete_text'].tolist()\n",
        "top_k_indices_list = []\n",
        "\n",
        "# For each batch of text embeddings, compute the top K matching misconceptions\n",
        "for text_batch,text_batch1 in zip(text_embeddings_batches_m, text_embeddings_batches_m1):\n",
        "    # Compute all similarities and get top K misconceptions\n",
        "    batch_top_k_indices = compute_all_similarities(\n",
        "            text_batch, text_batch1, misconception_embeddings, misconception_embeddings1, misconception_mapping, text_list, top_k=25\n",
        "    )\n",
        "    top_k_indices_list.extend(batch_top_k_indices)"
      ]
    },
    {
      "cell_type": "code",
      "execution_count": null,
      "id": "f6daf8b7",
      "metadata": {
        "execution": {
          "iopub.execute_input": "2024-10-25T14:39:45.259569Z",
          "iopub.status.busy": "2024-10-25T14:39:45.259175Z",
          "iopub.status.idle": "2024-10-25T14:39:45.266022Z",
          "shell.execute_reply": "2024-10-25T14:39:45.265191Z"
        },
        "papermill": {
          "duration": 0.033444,
          "end_time": "2024-10-25T14:39:45.267898",
          "exception": false,
          "start_time": "2024-10-25T14:39:45.234454",
          "status": "completed"
        },
        "tags": [],
        "id": "f6daf8b7"
      },
      "outputs": [],
      "source": [
        "# Ensure test_long is a copy\n",
        "test_long = test_long.copy()\n",
        "\n",
        "# Now you can assign the values without triggering the warning\n",
        "test_long.loc[:, \"MisconceptionId\"] = [\" \".join([str(x) for x in top_k_indices_list]) for top_k_indices_list in top_k_indices_list]\n"
      ]
    },
    {
      "cell_type": "markdown",
      "id": "02a14fec",
      "metadata": {
        "papermill": {
          "duration": 0.023321,
          "end_time": "2024-10-25T14:39:45.314614",
          "exception": false,
          "start_time": "2024-10-25T14:39:45.291293",
          "status": "completed"
        },
        "tags": [],
        "id": "02a14fec"
      },
      "source": [
        "# finetuning\n"
      ]
    },
    {
      "cell_type": "code",
      "execution_count": null,
      "id": "64986681",
      "metadata": {
        "execution": {
          "iopub.execute_input": "2024-10-25T14:39:45.363742Z",
          "iopub.status.busy": "2024-10-25T14:39:45.362844Z",
          "iopub.status.idle": "2024-10-25T14:39:45.370501Z",
          "shell.execute_reply": "2024-10-25T14:39:45.369649Z"
        },
        "papermill": {
          "duration": 0.034449,
          "end_time": "2024-10-25T14:39:45.372700",
          "exception": false,
          "start_time": "2024-10-25T14:39:45.338251",
          "status": "completed"
        },
        "tags": [],
        "id": "64986681"
      },
      "outputs": [],
      "source": [
        "import numpy as np\n",
        "def apk(actual, predicted, k=25):\n",
        "    if not actual:\n",
        "        return 0.0\n",
        "\n",
        "    if len(predicted)>k:\n",
        "        predicted = predicted[:k]\n",
        "\n",
        "    score = 0.0\n",
        "    num_hits = 0.0\n",
        "\n",
        "    for i,p in enumerate(predicted):\n",
        "        # first condition checks whether it is valid prediction\n",
        "        # second condition checks if prediction is not repeated\n",
        "        if p in actual and p not in predicted[:i]:\n",
        "            num_hits += 1.0\n",
        "            score += num_hits / (i+1.0)\n",
        "\n",
        "    return score / min(len(actual), k)\n",
        "\n",
        "\n",
        "def mapk(actual, predicted, k=25):\n",
        "    return np.mean([apk(a,p,k) for a,p in zip(actual, predicted)])"
      ]
    },
    {
      "cell_type": "code",
      "execution_count": null,
      "id": "66c164ce",
      "metadata": {
        "execution": {
          "iopub.execute_input": "2024-10-25T14:39:45.421748Z",
          "iopub.status.busy": "2024-10-25T14:39:45.420828Z",
          "iopub.status.idle": "2024-10-25T14:39:45.425570Z",
          "shell.execute_reply": "2024-10-25T14:39:45.424716Z"
        },
        "papermill": {
          "duration": 0.031357,
          "end_time": "2024-10-25T14:39:45.427590",
          "exception": false,
          "start_time": "2024-10-25T14:39:45.396233",
          "status": "completed"
        },
        "tags": [],
        "id": "66c164ce"
      },
      "outputs": [],
      "source": [
        "finetune_df = test_long.copy()"
      ]
    },
    {
      "cell_type": "markdown",
      "id": "818d29c3",
      "metadata": {
        "papermill": {
          "duration": 0.022966,
          "end_time": "2024-10-25T14:39:45.580543",
          "exception": false,
          "start_time": "2024-10-25T14:39:45.557577",
          "status": "completed"
        },
        "tags": [],
        "id": "818d29c3"
      },
      "source": [
        "# checking score"
      ]
    },
    {
      "cell_type": "code",
      "execution_count": null,
      "id": "ee018024",
      "metadata": {
        "execution": {
          "iopub.execute_input": "2024-10-25T14:39:45.628693Z",
          "iopub.status.busy": "2024-10-25T14:39:45.628292Z",
          "iopub.status.idle": "2024-10-25T14:39:45.637294Z",
          "shell.execute_reply": "2024-10-25T14:39:45.636363Z"
        },
        "papermill": {
          "duration": 0.035553,
          "end_time": "2024-10-25T14:39:45.639374",
          "exception": false,
          "start_time": "2024-10-25T14:39:45.603821",
          "status": "completed"
        },
        "tags": [],
        "id": "ee018024"
      },
      "outputs": [],
      "source": [
        "import numpy as np\n",
        "\n",
        "def apk(actual, predicted, k=25):\n",
        "    \"\"\" Computes the Average Precision at k (AP@k). \"\"\"\n",
        "    if not actual:\n",
        "        return 0.0\n",
        "\n",
        "    predicted = predicted[:k]\n",
        "    score = 0.0\n",
        "    num_hits = 0.0\n",
        "\n",
        "    for i, p in enumerate(predicted):\n",
        "        if p in actual and p not in predicted[:i]:\n",
        "            num_hits += 1.0\n",
        "            score += num_hits / (i + 1.0)\n",
        "\n",
        "    return score / min(len(actual), k)\n",
        "\n",
        "def mapk(actual, predicted, k=25):\n",
        "    \"\"\" Computes the Mean Average Precision at k (MAP@k). \"\"\"\n",
        "    return np.mean([apk(a, p, k) for a, p in zip(actual, predicted)])"
      ]
    },
    {
      "cell_type": "code",
      "execution_count": null,
      "id": "47fd91e4",
      "metadata": {
        "execution": {
          "iopub.execute_input": "2024-10-25T14:39:45.688320Z",
          "iopub.status.busy": "2024-10-25T14:39:45.687611Z",
          "iopub.status.idle": "2024-10-25T14:39:45.720516Z",
          "shell.execute_reply": "2024-10-25T14:39:45.719663Z"
        },
        "papermill": {
          "duration": 0.06034,
          "end_time": "2024-10-25T14:39:45.723079",
          "exception": false,
          "start_time": "2024-10-25T14:39:45.662739",
          "status": "completed"
        },
        "tags": [],
        "id": "47fd91e4"
      },
      "outputs": [],
      "source": [
        "df_train = pd.read_csv('/kaggle/input/eedi-mining-misconceptions-in-mathematics/train.csv')"
      ]
    },
    {
      "cell_type": "code",
      "execution_count": null,
      "id": "cbefd1b1",
      "metadata": {
        "execution": {
          "iopub.execute_input": "2024-10-25T14:39:45.772288Z",
          "iopub.status.busy": "2024-10-25T14:39:45.771410Z",
          "iopub.status.idle": "2024-10-25T14:39:45.778615Z",
          "shell.execute_reply": "2024-10-25T14:39:45.777868Z"
        },
        "papermill": {
          "duration": 0.033856,
          "end_time": "2024-10-25T14:39:45.780717",
          "exception": false,
          "start_time": "2024-10-25T14:39:45.746861",
          "status": "completed"
        },
        "tags": [],
        "id": "cbefd1b1"
      },
      "outputs": [],
      "source": [
        "df_train.fillna(-1, inplace=True)"
      ]
    },
    {
      "cell_type": "code",
      "execution_count": null,
      "id": "701d337d",
      "metadata": {
        "execution": {
          "iopub.execute_input": "2024-10-25T14:39:45.829586Z",
          "iopub.status.busy": "2024-10-25T14:39:45.829202Z",
          "iopub.status.idle": "2024-10-25T14:39:45.833625Z",
          "shell.execute_reply": "2024-10-25T14:39:45.832784Z"
        },
        "papermill": {
          "duration": 0.030797,
          "end_time": "2024-10-25T14:39:45.835504",
          "exception": false,
          "start_time": "2024-10-25T14:39:45.804707",
          "status": "completed"
        },
        "tags": [],
        "id": "701d337d"
      },
      "outputs": [],
      "source": [
        "from tqdm import tqdm"
      ]
    },
    {
      "cell_type": "code",
      "execution_count": null,
      "id": "db24fee6",
      "metadata": {
        "execution": {
          "iopub.execute_input": "2024-10-25T14:39:45.884147Z",
          "iopub.status.busy": "2024-10-25T14:39:45.883763Z",
          "iopub.status.idle": "2024-10-25T14:39:46.327200Z",
          "shell.execute_reply": "2024-10-25T14:39:46.326385Z"
        },
        "papermill": {
          "duration": 0.4706,
          "end_time": "2024-10-25T14:39:46.329625",
          "exception": false,
          "start_time": "2024-10-25T14:39:45.859025",
          "status": "completed"
        },
        "tags": [],
        "id": "db24fee6",
        "outputId": "3d57ebda-098a-41a2-99e6-2ade55580936"
      },
      "outputs": [
        {
          "name": "stderr",
          "output_type": "stream",
          "text": [
            "100%|██████████| 1869/1869 [00:00<00:00, 6895.14it/s]\n"
          ]
        }
      ],
      "source": [
        "df_label = {}\n",
        "for idx, row in tqdm(df_train.iterrows(), total=len(df_train)):\n",
        "    for option in [\"A\", \"B\", \"C\", \"D\"]:\n",
        "        if (row.CorrectAnswer!=option) & (row[f\"Misconception{option}Id\"]!=-1):\n",
        "            #df[f\"{row.QuestionId}_{option}\"] = apply_template(row, tokenizer, option)\n",
        "            df_label[f\"{row.QuestionId}_{option}\"] = [row[f\"Misconception{option}Id\"]]\n",
        "\n",
        "df_label = pd.DataFrame([df_label]).T.reset_index()\n",
        "df_label.columns = [\"QuestionId_Answer\", \"MisconceptionId\"]\n"
      ]
    },
    {
      "cell_type": "code",
      "execution_count": null,
      "id": "bc630b17",
      "metadata": {
        "execution": {
          "iopub.execute_input": "2024-10-25T14:39:46.379918Z",
          "iopub.status.busy": "2024-10-25T14:39:46.379299Z",
          "iopub.status.idle": "2024-10-25T14:39:46.385835Z",
          "shell.execute_reply": "2024-10-25T14:39:46.384887Z"
        },
        "papermill": {
          "duration": 0.034196,
          "end_time": "2024-10-25T14:39:46.388446",
          "exception": false,
          "start_time": "2024-10-25T14:39:46.354250",
          "status": "completed"
        },
        "tags": [],
        "id": "bc630b17",
        "outputId": "c795110c-7f49-4a04-d400-ecb7ec6c4682"
      },
      "outputs": [
        {
          "name": "stdout",
          "output_type": "stream",
          "text": [
            "Validation:  0.19444444444444445\n"
          ]
        }
      ],
      "source": [
        "import pandas as pd\n",
        "predicted = test_long[\"MisconceptionId\"].apply(lambda x: [int(y) for y in x.split()])\n",
        "label = df_label[\"MisconceptionId\"]\n",
        "print(\"Validation: \", mapk(label, predicted))"
      ]
    },
    {
      "cell_type": "code",
      "execution_count": null,
      "id": "669056ed",
      "metadata": {
        "papermill": {
          "duration": 0.023648,
          "end_time": "2024-10-25T14:39:46.435892",
          "exception": false,
          "start_time": "2024-10-25T14:39:46.412244",
          "status": "completed"
        },
        "tags": [],
        "id": "669056ed"
      },
      "outputs": [],
      "source": []
    },
    {
      "cell_type": "code",
      "execution_count": null,
      "id": "0e07d400",
      "metadata": {
        "execution": {
          "iopub.execute_input": "2024-10-25T14:39:46.485690Z",
          "iopub.status.busy": "2024-10-25T14:39:46.484902Z",
          "iopub.status.idle": "2024-10-25T14:39:46.490637Z",
          "shell.execute_reply": "2024-10-25T14:39:46.489719Z"
        },
        "papermill": {
          "duration": 0.03312,
          "end_time": "2024-10-25T14:39:46.492822",
          "exception": false,
          "start_time": "2024-10-25T14:39:46.459702",
          "status": "completed"
        },
        "tags": [],
        "id": "0e07d400"
      },
      "outputs": [],
      "source": [
        "submission = test_long[[\"QuestionId_Answer\", \"MisconceptionId\"]].reset_index(drop=True)"
      ]
    },
    {
      "cell_type": "code",
      "execution_count": null,
      "id": "43864c7d",
      "metadata": {
        "execution": {
          "iopub.execute_input": "2024-10-25T14:39:46.543234Z",
          "iopub.status.busy": "2024-10-25T14:39:46.542353Z",
          "iopub.status.idle": "2024-10-25T14:39:46.549383Z",
          "shell.execute_reply": "2024-10-25T14:39:46.548542Z"
        },
        "papermill": {
          "duration": 0.034238,
          "end_time": "2024-10-25T14:39:46.551337",
          "exception": false,
          "start_time": "2024-10-25T14:39:46.517099",
          "status": "completed"
        },
        "tags": [],
        "id": "43864c7d",
        "outputId": "af10f9a3-6700-4f90-cbde-1f2807668d4d"
      },
      "outputs": [
        {
          "data": {
            "text/plain": [
              "'1672 2306 2532 1941 2586 328 2488 15 1085 1516 2140 2518 1054 466 1119 706 2181 203 102 77 1005 752 1856 1507 2512'"
            ]
          },
          "execution_count": 45,
          "metadata": {},
          "output_type": "execute_result"
        }
      ],
      "source": [
        "submission['MisconceptionId'].iloc[0]"
      ]
    },
    {
      "cell_type": "code",
      "execution_count": null,
      "id": "02290191",
      "metadata": {
        "execution": {
          "iopub.execute_input": "2024-10-25T14:39:46.600723Z",
          "iopub.status.busy": "2024-10-25T14:39:46.600336Z",
          "iopub.status.idle": "2024-10-25T14:39:46.610384Z",
          "shell.execute_reply": "2024-10-25T14:39:46.609384Z"
        },
        "papermill": {
          "duration": 0.037455,
          "end_time": "2024-10-25T14:39:46.612730",
          "exception": false,
          "start_time": "2024-10-25T14:39:46.575275",
          "status": "completed"
        },
        "tags": [],
        "id": "02290191",
        "outputId": "375f18a3-a7c7-467a-9e1e-b68a2972404c"
      },
      "outputs": [
        {
          "data": {
            "text/html": [
              "<div>\n",
              "<style scoped>\n",
              "    .dataframe tbody tr th:only-of-type {\n",
              "        vertical-align: middle;\n",
              "    }\n",
              "\n",
              "    .dataframe tbody tr th {\n",
              "        vertical-align: top;\n",
              "    }\n",
              "\n",
              "    .dataframe thead th {\n",
              "        text-align: right;\n",
              "    }\n",
              "</style>\n",
              "<table border=\"1\" class=\"dataframe\">\n",
              "  <thead>\n",
              "    <tr style=\"text-align: right;\">\n",
              "      <th></th>\n",
              "      <th>QuestionId_Answer</th>\n",
              "      <th>MisconceptionId</th>\n",
              "    </tr>\n",
              "  </thead>\n",
              "  <tbody>\n",
              "    <tr>\n",
              "      <th>0</th>\n",
              "      <td>1869_B</td>\n",
              "      <td>1672 2306 2532 1941 2586 328 2488 15 1085 1516...</td>\n",
              "    </tr>\n",
              "    <tr>\n",
              "      <th>1</th>\n",
              "      <td>1869_C</td>\n",
              "      <td>1672 2306 2532 1941 328 2488 2586 2140 1516 15...</td>\n",
              "    </tr>\n",
              "    <tr>\n",
              "      <th>2</th>\n",
              "      <td>1869_D</td>\n",
              "      <td>2306 1672 1941 2488 15 2586 2140 1005 1516 328...</td>\n",
              "    </tr>\n",
              "    <tr>\n",
              "      <th>3</th>\n",
              "      <td>1870_A</td>\n",
              "      <td>167 113 2068 2142 353 1540 3 265 46 633 79 606...</td>\n",
              "    </tr>\n",
              "    <tr>\n",
              "      <th>4</th>\n",
              "      <td>1870_B</td>\n",
              "      <td>167 113 353 2068 2142 1540 3 265 46 79 633 525...</td>\n",
              "    </tr>\n",
              "    <tr>\n",
              "      <th>5</th>\n",
              "      <td>1870_C</td>\n",
              "      <td>167 113 2068 2142 353 1540 3 265 46 1432 79 52...</td>\n",
              "    </tr>\n",
              "    <tr>\n",
              "      <th>6</th>\n",
              "      <td>1871_A</td>\n",
              "      <td>1287 1073 365 1923 1797 2151 2439 2319 129 247...</td>\n",
              "    </tr>\n",
              "    <tr>\n",
              "      <th>7</th>\n",
              "      <td>1871_C</td>\n",
              "      <td>1287 1073 365 1923 1797 2151 2439 2319 129 247...</td>\n",
              "    </tr>\n",
              "    <tr>\n",
              "      <th>8</th>\n",
              "      <td>1871_D</td>\n",
              "      <td>1287 1073 365 2151 1923 1797 2439 2319 129 247...</td>\n",
              "    </tr>\n",
              "  </tbody>\n",
              "</table>\n",
              "</div>"
            ],
            "text/plain": [
              "  QuestionId_Answer                                    MisconceptionId\n",
              "0            1869_B  1672 2306 2532 1941 2586 328 2488 15 1085 1516...\n",
              "1            1869_C  1672 2306 2532 1941 328 2488 2586 2140 1516 15...\n",
              "2            1869_D  2306 1672 1941 2488 15 2586 2140 1005 1516 328...\n",
              "3            1870_A  167 113 2068 2142 353 1540 3 265 46 633 79 606...\n",
              "4            1870_B  167 113 353 2068 2142 1540 3 265 46 79 633 525...\n",
              "5            1870_C  167 113 2068 2142 353 1540 3 265 46 1432 79 52...\n",
              "6            1871_A  1287 1073 365 1923 1797 2151 2439 2319 129 247...\n",
              "7            1871_C  1287 1073 365 1923 1797 2151 2439 2319 129 247...\n",
              "8            1871_D  1287 1073 365 2151 1923 1797 2439 2319 129 247..."
            ]
          },
          "execution_count": 46,
          "metadata": {},
          "output_type": "execute_result"
        }
      ],
      "source": [
        "submission"
      ]
    },
    {
      "cell_type": "code",
      "execution_count": null,
      "id": "d5362873",
      "metadata": {
        "execution": {
          "iopub.execute_input": "2024-10-25T14:39:46.664173Z",
          "iopub.status.busy": "2024-10-25T14:39:46.663307Z",
          "iopub.status.idle": "2024-10-25T14:39:46.672132Z",
          "shell.execute_reply": "2024-10-25T14:39:46.671344Z"
        },
        "id": "d5362873",
        "papermill": {
          "duration": 0.036233,
          "end_time": "2024-10-25T14:39:46.674203",
          "exception": false,
          "start_time": "2024-10-25T14:39:46.637970",
          "status": "completed"
        },
        "tags": []
      },
      "outputs": [],
      "source": [
        "import os\n",
        "\n",
        "if os.path.exists(\"/kaggle/working/submission.csv\"):\n",
        "    os.remove(\"/kaggle/working/submission.csv\")\n",
        "\n",
        "submission.to_csv(\"/kaggle/working/submission.csv\", index=False)\n"
      ]
    }
  ],
  "metadata": {
    "accelerator": "GPU",
    "colab": {
      "gpuType": "T4",
      "provenance": []
    },
    "kaggle": {
      "accelerator": "gpu",
      "dataSources": [
        {
          "databundleVersionId": 9738540,
          "sourceId": 82695,
          "sourceType": "competition"
        },
        {
          "datasetId": 4581967,
          "sourceId": 9712024,
          "sourceType": "datasetVersion"
        },
        {
          "datasetId": 4907778,
          "sourceId": 8361221,
          "sourceType": "datasetVersion"
        },
        {
          "datasetId": 5809518,
          "sourceId": 9537727,
          "sourceType": "datasetVersion"
        },
        {
          "modelId": 132401,
          "modelInstanceId": 108072,
          "sourceId": 128310,
          "sourceType": "modelInstanceVersion"
        },
        {
          "modelId": 135413,
          "modelInstanceId": 112092,
          "sourceId": 132633,
          "sourceType": "modelInstanceVersion"
        },
        {
          "modelId": 143320,
          "modelInstanceId": 120096,
          "sourceId": 141779,
          "sourceType": "modelInstanceVersion"
        }
      ],
      "dockerImageVersionId": 30776,
      "isGpuEnabled": true,
      "isInternetEnabled": false,
      "language": "python",
      "sourceType": "notebook"
    },
    "kernelspec": {
      "display_name": "Python 3",
      "language": "python",
      "name": "python3"
    },
    "language_info": {
      "codemirror_mode": {
        "name": "ipython",
        "version": 3
      },
      "file_extension": ".py",
      "mimetype": "text/x-python",
      "name": "python",
      "nbconvert_exporter": "python",
      "pygments_lexer": "ipython3",
      "version": "3.10.14"
    },
    "papermill": {
      "default_parameters": {},
      "duration": 61.78813,
      "end_time": "2024-10-25T14:39:49.518022",
      "environment_variables": {},
      "exception": null,
      "input_path": "__notebook__.ipynb",
      "output_path": "__notebook__.ipynb",
      "parameters": {},
      "start_time": "2024-10-25T14:38:47.729892",
      "version": "2.6.0"
    },
    "widgets": {
      "application/vnd.jupyter.widget-state+json": {}
    }
  },
  "nbformat": 4,
  "nbformat_minor": 5
}